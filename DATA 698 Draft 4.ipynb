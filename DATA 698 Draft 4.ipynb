{
 "cells": [
  {
   "cell_type": "code",
   "execution_count": 1,
   "metadata": {},
   "outputs": [],
   "source": [
    "import pandas as pd\n",
    "import matplotlib.pyplot as plt\n",
    "from datetime import datetime\n",
    "import numpy as np\n",
    "import seaborn as sn\n",
    "import re\n",
    "import os"
   ]
  },
  {
   "cell_type": "code",
   "execution_count": 177,
   "metadata": {},
   "outputs": [],
   "source": [
    "from sklearn.linear_model import LinearRegression\n",
    "from sklearn import svm\n",
    "from sklearn.neighbors import KNeighborsRegressor\n",
    "from sklearn.neural_network import MLPRegressor\n",
    "from sklearn.gaussian_process import GaussianProcessRegressor\n",
    "\n",
    "from sklearn.ensemble import GradientBoostingRegressor\n",
    "from sklearn.ensemble import RandomForestRegressor\n",
    "from sklearn.ensemble import VotingRegressor\n",
    "\n",
    "from sklearn.model_selection import train_test_split\n",
    "from sklearn.metrics import r2_score\n",
    "from sklearn.metrics import mean_absolute_error\n",
    "from sklearn.metrics import mean_squared_error\n",
    "from sklearn.model_selection import cross_val_score, cross_val_predict"
   ]
  },
  {
   "cell_type": "code",
   "execution_count": 3,
   "metadata": {},
   "outputs": [],
   "source": [
    "#os.getcwd()\n",
    "#df = pd.read_csv('Healthcare_Cost_by_Year.csv')\n",
    "\n",
    "health_cost = pd.read_excel('Healthcare_Cost_by_Year.xlsx')"
   ]
  },
  {
   "cell_type": "code",
   "execution_count": 4,
   "metadata": {},
   "outputs": [
    {
     "data": {
      "text/html": [
       "<div>\n",
       "<style scoped>\n",
       "    .dataframe tbody tr th:only-of-type {\n",
       "        vertical-align: middle;\n",
       "    }\n",
       "\n",
       "    .dataframe tbody tr th {\n",
       "        vertical-align: top;\n",
       "    }\n",
       "\n",
       "    .dataframe thead th {\n",
       "        text-align: right;\n",
       "    }\n",
       "</style>\n",
       "<table border=\"1\" class=\"dataframe\">\n",
       "  <thead>\n",
       "    <tr style=\"text-align: right;\">\n",
       "      <th></th>\n",
       "      <th>Year</th>\n",
       "      <th>National Health Spending (Billions)</th>\n",
       "      <th>Percent Growth</th>\n",
       "      <th>Cost Per Person</th>\n",
       "      <th>Event</th>\n",
       "      <th>Year.1</th>\n",
       "      <th>Inflation Rate YOY</th>\n",
       "      <th>Fed Funds Rate*</th>\n",
       "      <th>Business Cycle (GDP Growth)</th>\n",
       "      <th>Events Affecting Inflation</th>\n",
       "    </tr>\n",
       "  </thead>\n",
       "  <tbody>\n",
       "    <tr>\n",
       "      <th>0</th>\n",
       "      <td>1960.0</td>\n",
       "      <td>27.2</td>\n",
       "      <td>NaN</td>\n",
       "      <td>146.0</td>\n",
       "      <td>Recession</td>\n",
       "      <td>1960.0</td>\n",
       "      <td>0.014</td>\n",
       "      <td>0.0200</td>\n",
       "      <td>April peak (2.6%)</td>\n",
       "      <td>Recession</td>\n",
       "    </tr>\n",
       "    <tr>\n",
       "      <th>1</th>\n",
       "      <td>1961.0</td>\n",
       "      <td>29.1</td>\n",
       "      <td>0.071</td>\n",
       "      <td>154.0</td>\n",
       "      <td>Recession ended</td>\n",
       "      <td>1961.0</td>\n",
       "      <td>0.007</td>\n",
       "      <td>0.0225</td>\n",
       "      <td>Feb. trough (2.6%)</td>\n",
       "      <td>JFK's deficit spending ended recession</td>\n",
       "    </tr>\n",
       "    <tr>\n",
       "      <th>2</th>\n",
       "      <td>1962.0</td>\n",
       "      <td>31.8</td>\n",
       "      <td>0.093</td>\n",
       "      <td>166.0</td>\n",
       "      <td>NaN</td>\n",
       "      <td>1962.0</td>\n",
       "      <td>0.013</td>\n",
       "      <td>0.0300</td>\n",
       "      <td>Expansion (6.1%)</td>\n",
       "      <td>NaN</td>\n",
       "    </tr>\n",
       "    <tr>\n",
       "      <th>3</th>\n",
       "      <td>1963.0</td>\n",
       "      <td>34.6</td>\n",
       "      <td>0.086</td>\n",
       "      <td>178.0</td>\n",
       "      <td>NaN</td>\n",
       "      <td>1963.0</td>\n",
       "      <td>0.016</td>\n",
       "      <td>0.0350</td>\n",
       "      <td>Expansion (4.4%)</td>\n",
       "      <td>NaN</td>\n",
       "    </tr>\n",
       "    <tr>\n",
       "      <th>4</th>\n",
       "      <td>1964.0</td>\n",
       "      <td>38.4</td>\n",
       "      <td>0.110</td>\n",
       "      <td>194.0</td>\n",
       "      <td>LBJ started Medicare and Medicaid</td>\n",
       "      <td>1964.0</td>\n",
       "      <td>0.010</td>\n",
       "      <td>0.0375</td>\n",
       "      <td>Expansion (5.8%)</td>\n",
       "      <td>LBJ Medicare, Medicaid</td>\n",
       "    </tr>\n",
       "  </tbody>\n",
       "</table>\n",
       "</div>"
      ],
      "text/plain": [
       "     Year National Health Spending (Billions)  Percent Growth  \\\n",
       "0  1960.0                                27.2             NaN   \n",
       "1  1961.0                                29.1           0.071   \n",
       "2  1962.0                                31.8           0.093   \n",
       "3  1963.0                                34.6           0.086   \n",
       "4  1964.0                                38.4           0.110   \n",
       "\n",
       "   Cost Per Person                              Event  Year.1  \\\n",
       "0            146.0                          Recession  1960.0   \n",
       "1            154.0                    Recession ended  1961.0   \n",
       "2            166.0                                NaN  1962.0   \n",
       "3            178.0                                NaN  1963.0   \n",
       "4            194.0  LBJ started Medicare and Medicaid  1964.0   \n",
       "\n",
       "   Inflation Rate YOY  Fed Funds Rate* Business Cycle (GDP Growth)  \\\n",
       "0               0.014           0.0200           April peak (2.6%)   \n",
       "1               0.007           0.0225          Feb. trough (2.6%)   \n",
       "2               0.013           0.0300            Expansion (6.1%)   \n",
       "3               0.016           0.0350            Expansion (4.4%)   \n",
       "4               0.010           0.0375            Expansion (5.8%)   \n",
       "\n",
       "               Events Affecting Inflation  \n",
       "0                               Recession  \n",
       "1  JFK's deficit spending ended recession  \n",
       "2                                     NaN  \n",
       "3                                     NaN  \n",
       "4                  LBJ Medicare, Medicaid  "
      ]
     },
     "execution_count": 4,
     "metadata": {},
     "output_type": "execute_result"
    }
   ],
   "source": [
    "health_cost.head()"
   ]
  },
  {
   "cell_type": "code",
   "execution_count": 5,
   "metadata": {},
   "outputs": [
    {
     "data": {
      "image/png": "[encoded data removed]",
      "text/plain": [
       "<Figure size 432x288 with 1 Axes>"
      ]
     },
     "metadata": {
      "needs_background": "light"
     },
     "output_type": "display_data"
    }
   ],
   "source": [
    "plt.plot(health_cost['Year'], health_cost['Percent Growth'], label = 'Healthcare Cost Growth Rate')\n",
    "plt.plot(health_cost['Year'], health_cost['Inflation Rate YOY'], label = 'Inflation Rate')\n",
    "plt.xlabel('Year')\n",
    "plt.ylabel('Percentage(%)')\n",
    "plt.legend()\n",
    "plt.show()"
   ]
  },
  {
   "cell_type": "code",
   "execution_count": 6,
   "metadata": {},
   "outputs": [],
   "source": [
    "df1 = pd.read_csv('Medicare_Hospital_Spending_by_Claim.csv')\n",
    "df2 = pd.read_csv('Hospital_Readmissions_Reduction_Program.csv')"
   ]
  },
  {
   "cell_type": "code",
   "execution_count": 115,
   "metadata": {},
   "outputs": [],
   "source": [
    "df = df1.merge(df2, left_on=['Facility ID', 'Facility Name', 'State'], right_on = ['Facility ID', 'Facility Name', 'State'])"
   ]
  },
  {
   "cell_type": "code",
   "execution_count": 116,
   "metadata": {},
   "outputs": [
    {
     "data": {
      "text/html": [
       "<div>\n",
       "<style scoped>\n",
       "    .dataframe tbody tr th:only-of-type {\n",
       "        vertical-align: middle;\n",
       "    }\n",
       "\n",
       "    .dataframe tbody tr th {\n",
       "        vertical-align: top;\n",
       "    }\n",
       "\n",
       "    .dataframe thead th {\n",
       "        text-align: right;\n",
       "    }\n",
       "</style>\n",
       "<table border=\"1\" class=\"dataframe\">\n",
       "  <thead>\n",
       "    <tr style=\"text-align: right;\">\n",
       "      <th></th>\n",
       "      <th>Facility ID</th>\n",
       "      <th>Facility Name</th>\n",
       "      <th>State</th>\n",
       "      <th>Period</th>\n",
       "      <th>Claim Type</th>\n",
       "      <th>Avg Spending Per Episode Hospital</th>\n",
       "      <th>Avg Spending Per Episode State</th>\n",
       "      <th>Avg Spending Per Episode Nation</th>\n",
       "      <th>Percent of Spending Hospital</th>\n",
       "      <th>Percent of Spending State</th>\n",
       "      <th>...</th>\n",
       "      <th>End Date_x</th>\n",
       "      <th>Measure Name</th>\n",
       "      <th>Number of Discharges</th>\n",
       "      <th>Footnote</th>\n",
       "      <th>Excess Readmission Ratio</th>\n",
       "      <th>Predicted Readmission Rate</th>\n",
       "      <th>Expected Readmission Rate</th>\n",
       "      <th>Number of Readmissions</th>\n",
       "      <th>Start Date_y</th>\n",
       "      <th>End Date_y</th>\n",
       "    </tr>\n",
       "  </thead>\n",
       "  <tbody>\n",
       "    <tr>\n",
       "      <th>0</th>\n",
       "      <td>10001</td>\n",
       "      <td>SOUTHEAST ALABAMA MEDICAL CENTER</td>\n",
       "      <td>AL</td>\n",
       "      <td>1 to 3 days Prior to Index Hospital Admission</td>\n",
       "      <td>Home Health Agency</td>\n",
       "      <td>21</td>\n",
       "      <td>16</td>\n",
       "      <td>13</td>\n",
       "      <td>0.09%</td>\n",
       "      <td>0.08%</td>\n",
       "      <td>...</td>\n",
       "      <td>12/31/2018</td>\n",
       "      <td>READM-30-HIP-KNEE-HRRP</td>\n",
       "      <td>301.0</td>\n",
       "      <td>NaN</td>\n",
       "      <td>1.1787</td>\n",
       "      <td>5.5863</td>\n",
       "      <td>4.7392</td>\n",
       "      <td>20</td>\n",
       "      <td>07/01/2015</td>\n",
       "      <td>06/30/2018</td>\n",
       "    </tr>\n",
       "    <tr>\n",
       "      <th>1</th>\n",
       "      <td>10001</td>\n",
       "      <td>SOUTHEAST ALABAMA MEDICAL CENTER</td>\n",
       "      <td>AL</td>\n",
       "      <td>1 to 3 days Prior to Index Hospital Admission</td>\n",
       "      <td>Home Health Agency</td>\n",
       "      <td>21</td>\n",
       "      <td>16</td>\n",
       "      <td>13</td>\n",
       "      <td>0.09%</td>\n",
       "      <td>0.08%</td>\n",
       "      <td>...</td>\n",
       "      <td>12/31/2018</td>\n",
       "      <td>READM-30-CABG-HRRP</td>\n",
       "      <td>279.0</td>\n",
       "      <td>NaN</td>\n",
       "      <td>1.2361</td>\n",
       "      <td>14.5943</td>\n",
       "      <td>11.8065</td>\n",
       "      <td>46</td>\n",
       "      <td>07/01/2015</td>\n",
       "      <td>06/30/2018</td>\n",
       "    </tr>\n",
       "    <tr>\n",
       "      <th>2</th>\n",
       "      <td>10001</td>\n",
       "      <td>SOUTHEAST ALABAMA MEDICAL CENTER</td>\n",
       "      <td>AL</td>\n",
       "      <td>1 to 3 days Prior to Index Hospital Admission</td>\n",
       "      <td>Home Health Agency</td>\n",
       "      <td>21</td>\n",
       "      <td>16</td>\n",
       "      <td>13</td>\n",
       "      <td>0.09%</td>\n",
       "      <td>0.08%</td>\n",
       "      <td>...</td>\n",
       "      <td>12/31/2018</td>\n",
       "      <td>READM-30-AMI-HRRP</td>\n",
       "      <td>742.0</td>\n",
       "      <td>NaN</td>\n",
       "      <td>1.0446</td>\n",
       "      <td>15.2935</td>\n",
       "      <td>14.6404</td>\n",
       "      <td>116</td>\n",
       "      <td>07/01/2015</td>\n",
       "      <td>06/30/2018</td>\n",
       "    </tr>\n",
       "    <tr>\n",
       "      <th>3</th>\n",
       "      <td>10001</td>\n",
       "      <td>SOUTHEAST ALABAMA MEDICAL CENTER</td>\n",
       "      <td>AL</td>\n",
       "      <td>1 to 3 days Prior to Index Hospital Admission</td>\n",
       "      <td>Home Health Agency</td>\n",
       "      <td>21</td>\n",
       "      <td>16</td>\n",
       "      <td>13</td>\n",
       "      <td>0.09%</td>\n",
       "      <td>0.08%</td>\n",
       "      <td>...</td>\n",
       "      <td>12/31/2018</td>\n",
       "      <td>READM-30-HF-HRRP</td>\n",
       "      <td>1114.0</td>\n",
       "      <td>NaN</td>\n",
       "      <td>1.0453</td>\n",
       "      <td>22.3772</td>\n",
       "      <td>21.4082</td>\n",
       "      <td>252</td>\n",
       "      <td>07/01/2015</td>\n",
       "      <td>06/30/2018</td>\n",
       "    </tr>\n",
       "    <tr>\n",
       "      <th>4</th>\n",
       "      <td>10001</td>\n",
       "      <td>SOUTHEAST ALABAMA MEDICAL CENTER</td>\n",
       "      <td>AL</td>\n",
       "      <td>1 to 3 days Prior to Index Hospital Admission</td>\n",
       "      <td>Home Health Agency</td>\n",
       "      <td>21</td>\n",
       "      <td>16</td>\n",
       "      <td>13</td>\n",
       "      <td>0.09%</td>\n",
       "      <td>0.08%</td>\n",
       "      <td>...</td>\n",
       "      <td>12/31/2018</td>\n",
       "      <td>READM-30-COPD-HRRP</td>\n",
       "      <td>495.0</td>\n",
       "      <td>NaN</td>\n",
       "      <td>1.0249</td>\n",
       "      <td>18.6162</td>\n",
       "      <td>18.1637</td>\n",
       "      <td>94</td>\n",
       "      <td>07/01/2015</td>\n",
       "      <td>06/30/2018</td>\n",
       "    </tr>\n",
       "  </tbody>\n",
       "</table>\n",
       "<p>5 rows × 22 columns</p>\n",
       "</div>"
      ],
      "text/plain": [
       "   Facility ID                     Facility Name State  \\\n",
       "0        10001  SOUTHEAST ALABAMA MEDICAL CENTER    AL   \n",
       "1        10001  SOUTHEAST ALABAMA MEDICAL CENTER    AL   \n",
       "2        10001  SOUTHEAST ALABAMA MEDICAL CENTER    AL   \n",
       "3        10001  SOUTHEAST ALABAMA MEDICAL CENTER    AL   \n",
       "4        10001  SOUTHEAST ALABAMA MEDICAL CENTER    AL   \n",
       "\n",
       "                                          Period          Claim Type  \\\n",
       "0  1 to 3 days Prior to Index Hospital Admission  Home Health Agency   \n",
       "1  1 to 3 days Prior to Index Hospital Admission  Home Health Agency   \n",
       "2  1 to 3 days Prior to Index Hospital Admission  Home Health Agency   \n",
       "3  1 to 3 days Prior to Index Hospital Admission  Home Health Agency   \n",
       "4  1 to 3 days Prior to Index Hospital Admission  Home Health Agency   \n",
       "\n",
       "   Avg Spending Per Episode Hospital  Avg Spending Per Episode State  \\\n",
       "0                                 21                              16   \n",
       "1                                 21                              16   \n",
       "2                                 21                              16   \n",
       "3                                 21                              16   \n",
       "4                                 21                              16   \n",
       "\n",
       "   Avg Spending Per Episode Nation Percent of Spending Hospital  \\\n",
       "0                               13                        0.09%   \n",
       "1                               13                        0.09%   \n",
       "2                               13                        0.09%   \n",
       "3                               13                        0.09%   \n",
       "4                               13                        0.09%   \n",
       "\n",
       "  Percent of Spending State  ...  End Date_x            Measure Name  \\\n",
       "0                     0.08%  ...  12/31/2018  READM-30-HIP-KNEE-HRRP   \n",
       "1                     0.08%  ...  12/31/2018      READM-30-CABG-HRRP   \n",
       "2                     0.08%  ...  12/31/2018       READM-30-AMI-HRRP   \n",
       "3                     0.08%  ...  12/31/2018        READM-30-HF-HRRP   \n",
       "4                     0.08%  ...  12/31/2018      READM-30-COPD-HRRP   \n",
       "\n",
       "  Number of Discharges Footnote  Excess Readmission Ratio  \\\n",
       "0                301.0      NaN                    1.1787   \n",
       "1                279.0      NaN                    1.2361   \n",
       "2                742.0      NaN                    1.0446   \n",
       "3               1114.0      NaN                    1.0453   \n",
       "4                495.0      NaN                    1.0249   \n",
       "\n",
       "   Predicted Readmission Rate  Expected Readmission Rate  \\\n",
       "0                      5.5863                     4.7392   \n",
       "1                     14.5943                    11.8065   \n",
       "2                     15.2935                    14.6404   \n",
       "3                     22.3772                    21.4082   \n",
       "4                     18.6162                    18.1637   \n",
       "\n",
       "   Number of Readmissions  Start Date_y  End Date_y  \n",
       "0                      20    07/01/2015  06/30/2018  \n",
       "1                      46    07/01/2015  06/30/2018  \n",
       "2                     116    07/01/2015  06/30/2018  \n",
       "3                     252    07/01/2015  06/30/2018  \n",
       "4                      94    07/01/2015  06/30/2018  \n",
       "\n",
       "[5 rows x 22 columns]"
      ]
     },
     "execution_count": 116,
     "metadata": {},
     "output_type": "execute_result"
    }
   ],
   "source": [
    "df.head()"
   ]
  },
  {
   "cell_type": "code",
   "execution_count": 117,
   "metadata": {},
   "outputs": [
    {
     "name": "stdout",
     "output_type": "stream",
     "text": [
      "<class 'pandas.core.frame.DataFrame'>\n",
      "Int64Index: 338976 entries, 0 to 338975\n",
      "Data columns (total 22 columns):\n",
      "Facility ID                          338976 non-null int64\n",
      "Facility Name                        338976 non-null object\n",
      "State                                338976 non-null object\n",
      "Period                               338976 non-null object\n",
      "Claim Type                           338976 non-null object\n",
      "Avg Spending Per Episode Hospital    338976 non-null int64\n",
      "Avg Spending Per Episode State       338976 non-null int64\n",
      "Avg Spending Per Episode Nation      338976 non-null int64\n",
      "Percent of Spending Hospital         338976 non-null object\n",
      "Percent of Spending State            338976 non-null object\n",
      "Percent of Spending Nation           338976 non-null object\n",
      "Start Date_x                         338976 non-null object\n",
      "End Date_x                           338976 non-null object\n",
      "Measure Name                         338976 non-null object\n",
      "Number of Discharges                 203720 non-null float64\n",
      "Footnote                             86152 non-null float64\n",
      "Excess Readmission Ratio             252846 non-null float64\n",
      "Predicted Readmission Rate           252846 non-null float64\n",
      "Expected Readmission Rate            252846 non-null float64\n",
      "Number of Readmissions               252846 non-null object\n",
      "Start Date_y                         338976 non-null object\n",
      "End Date_y                           338976 non-null object\n",
      "dtypes: float64(5), int64(4), object(13)\n",
      "memory usage: 59.5+ MB\n"
     ]
    }
   ],
   "source": [
    "df.info()"
   ]
  },
  {
   "cell_type": "code",
   "execution_count": 118,
   "metadata": {},
   "outputs": [],
   "source": [
    "df.drop(columns=['Facility ID', \n",
    "                 'Start Date_x', \n",
    "                 'End Date_x', \n",
    "                 'Footnote', \n",
    "                 'Start Date_y', \n",
    "                 'End Date_y', \n",
    "                 'Excess Readmission Ratio',\n",
    "                 'Predicted Readmission Rate',\n",
    "                 'Expected Readmission Rate',\n",
    "                 'Avg Spending Per Episode State',\n",
    "                 'Avg Spending Per Episode Nation'\n",
    "                ], inplace = True)\n",
    "\n",
    "#df.fillna()\n",
    "#a = pd.DataFrame(df1.info())"
   ]
  },
  {
   "cell_type": "code",
   "execution_count": 119,
   "metadata": {},
   "outputs": [
    {
     "data": {
      "text/plain": [
       "Percent of Spending State     338976\n",
       "Percent of Spending Nation    338976\n",
       "Measure Name                  338976\n",
       "Number of Discharges          203720\n",
       "Number of Readmissions        252846\n",
       "dtype: int64"
      ]
     },
     "execution_count": 119,
     "metadata": {},
     "output_type": "execute_result"
    }
   ],
   "source": [
    "df.count().tail()"
   ]
  },
  {
   "cell_type": "code",
   "execution_count": 120,
   "metadata": {},
   "outputs": [
    {
     "data": {
      "text/plain": [
       "Facility Name                             0\n",
       "State                                     0\n",
       "Period                                    0\n",
       "Claim Type                                0\n",
       "Avg Spending Per Episode Hospital         0\n",
       "Percent of Spending Hospital              0\n",
       "Percent of Spending State                 0\n",
       "Percent of Spending Nation                0\n",
       "Measure Name                              0\n",
       "Number of Discharges                 135256\n",
       "Number of Readmissions                86130\n",
       "dtype: int64"
      ]
     },
     "execution_count": 120,
     "metadata": {},
     "output_type": "execute_result"
    }
   ],
   "source": [
    "df.isna().sum()"
   ]
  },
  {
   "cell_type": "code",
   "execution_count": 121,
   "metadata": {},
   "outputs": [
    {
     "data": {
      "text/plain": [
       "NaN                  86130\n",
       "Too Few to Report    50842\n",
       "12                    5412\n",
       "13                    5192\n",
       "11                    5016\n",
       "Name: Number of Readmissions, dtype: int64"
      ]
     },
     "execution_count": 121,
     "metadata": {},
     "output_type": "execute_result"
    }
   ],
   "source": [
    "df['Number of Readmissions'].value_counts(dropna = False).head()"
   ]
  },
  {
   "cell_type": "code",
   "execution_count": 122,
   "metadata": {},
   "outputs": [
    {
     "data": {
      "text/plain": [
       "NaN      135256\n",
       "0.0        1716\n",
       "119.0       814\n",
       "111.0       726\n",
       "100.0       704\n",
       "Name: Number of Discharges, dtype: int64"
      ]
     },
     "execution_count": 122,
     "metadata": {},
     "output_type": "execute_result"
    }
   ],
   "source": [
    "df['Number of Discharges'].value_counts(dropna = False).head()"
   ]
  },
  {
   "cell_type": "code",
   "execution_count": 123,
   "metadata": {},
   "outputs": [],
   "source": [
    "df['Number of Readmissions'] = pd.to_numeric(df['Number of Readmissions'], errors=\"coerce\")\n",
    "df['Percent of Spending Hospital'] = pd.to_numeric(df['Percent of Spending Hospital'].str.strip('%'), errors=\"coerce\")\n",
    "\n",
    "\n",
    "#df['Percent of Spending State'] = pd.to_numeric(df['Percent of Spending State'].str.strip('%'), errors=\"coerce\")\n",
    "#df['Percent of Spending Nation'] = pd.to_numeric(df['Percent of Spending Nation'].str.strip('%'), errors=\"coerce\")\n",
    "#df['Number of Readmissions'] = df['Number of Readmissions'].astype('str')\n",
    "#df['Percent of Spending Hospital'] = df['Percent of Spending Hospital'].astype('str')\n",
    "#df['Percent of Spending State'] = df['Percent of Spending State'].astype('str')\n",
    "#df['Percent of Spending Nation'] = df['Percent of Spending Nation'].astype('str')"
   ]
  },
  {
   "cell_type": "code",
   "execution_count": 124,
   "metadata": {},
   "outputs": [
    {
     "data": {
      "text/html": [
       "<div>\n",
       "<style scoped>\n",
       "    .dataframe tbody tr th:only-of-type {\n",
       "        vertical-align: middle;\n",
       "    }\n",
       "\n",
       "    .dataframe tbody tr th {\n",
       "        vertical-align: top;\n",
       "    }\n",
       "\n",
       "    .dataframe thead th {\n",
       "        text-align: right;\n",
       "    }\n",
       "</style>\n",
       "<table border=\"1\" class=\"dataframe\">\n",
       "  <thead>\n",
       "    <tr style=\"text-align: right;\">\n",
       "      <th></th>\n",
       "      <th>Avg Spending Per Episode Hospital</th>\n",
       "      <th>Percent of Spending Hospital</th>\n",
       "      <th>Number of Discharges</th>\n",
       "      <th>Number of Readmissions</th>\n",
       "    </tr>\n",
       "  </thead>\n",
       "  <tbody>\n",
       "    <tr>\n",
       "      <th>count</th>\n",
       "      <td>338976.000000</td>\n",
       "      <td>338976.000000</td>\n",
       "      <td>203720.000000</td>\n",
       "      <td>202004.000000</td>\n",
       "    </tr>\n",
       "    <tr>\n",
       "      <th>mean</th>\n",
       "      <td>1815.208263</td>\n",
       "      <td>9.090884</td>\n",
       "      <td>380.129266</td>\n",
       "      <td>60.795360</td>\n",
       "    </tr>\n",
       "    <tr>\n",
       "      <th>std</th>\n",
       "      <td>4548.274870</td>\n",
       "      <td>22.390812</td>\n",
       "      <td>351.321629</td>\n",
       "      <td>58.445966</td>\n",
       "    </tr>\n",
       "    <tr>\n",
       "      <th>min</th>\n",
       "      <td>0.000000</td>\n",
       "      <td>0.000000</td>\n",
       "      <td>0.000000</td>\n",
       "      <td>11.000000</td>\n",
       "    </tr>\n",
       "    <tr>\n",
       "      <th>25%</th>\n",
       "      <td>0.000000</td>\n",
       "      <td>0.000000</td>\n",
       "      <td>154.000000</td>\n",
       "      <td>22.000000</td>\n",
       "    </tr>\n",
       "    <tr>\n",
       "      <th>50%</th>\n",
       "      <td>68.000000</td>\n",
       "      <td>0.340000</td>\n",
       "      <td>280.000000</td>\n",
       "      <td>41.000000</td>\n",
       "    </tr>\n",
       "    <tr>\n",
       "      <th>75%</th>\n",
       "      <td>1006.000000</td>\n",
       "      <td>5.200000</td>\n",
       "      <td>492.000000</td>\n",
       "      <td>79.000000</td>\n",
       "    </tr>\n",
       "    <tr>\n",
       "      <th>max</th>\n",
       "      <td>37651.000000</td>\n",
       "      <td>100.000000</td>\n",
       "      <td>9356.000000</td>\n",
       "      <td>906.000000</td>\n",
       "    </tr>\n",
       "  </tbody>\n",
       "</table>\n",
       "</div>"
      ],
      "text/plain": [
       "       Avg Spending Per Episode Hospital  Percent of Spending Hospital  \\\n",
       "count                      338976.000000                 338976.000000   \n",
       "mean                         1815.208263                      9.090884   \n",
       "std                          4548.274870                     22.390812   \n",
       "min                             0.000000                      0.000000   \n",
       "25%                             0.000000                      0.000000   \n",
       "50%                            68.000000                      0.340000   \n",
       "75%                          1006.000000                      5.200000   \n",
       "max                         37651.000000                    100.000000   \n",
       "\n",
       "       Number of Discharges  Number of Readmissions  \n",
       "count         203720.000000           202004.000000  \n",
       "mean             380.129266               60.795360  \n",
       "std              351.321629               58.445966  \n",
       "min                0.000000               11.000000  \n",
       "25%              154.000000               22.000000  \n",
       "50%              280.000000               41.000000  \n",
       "75%              492.000000               79.000000  \n",
       "max             9356.000000              906.000000  "
      ]
     },
     "execution_count": 124,
     "metadata": {},
     "output_type": "execute_result"
    }
   ],
   "source": [
    "df.describe()"
   ]
  },
  {
   "cell_type": "code",
   "execution_count": 125,
   "metadata": {},
   "outputs": [
    {
     "name": "stdout",
     "output_type": "stream",
     "text": [
      "<class 'pandas.core.frame.DataFrame'>\n",
      "Int64Index: 338976 entries, 0 to 338975\n",
      "Data columns (total 11 columns):\n",
      "Facility Name                        338976 non-null object\n",
      "State                                338976 non-null object\n",
      "Period                               338976 non-null object\n",
      "Claim Type                           338976 non-null object\n",
      "Avg Spending Per Episode Hospital    338976 non-null int64\n",
      "Percent of Spending Hospital         338976 non-null float64\n",
      "Percent of Spending State            338976 non-null object\n",
      "Percent of Spending Nation           338976 non-null object\n",
      "Measure Name                         338976 non-null object\n",
      "Number of Discharges                 203720 non-null float64\n",
      "Number of Readmissions               202004 non-null float64\n",
      "dtypes: float64(3), int64(1), object(7)\n",
      "memory usage: 31.0+ MB\n"
     ]
    }
   ],
   "source": [
    "df.info()"
   ]
  },
  {
   "cell_type": "code",
   "execution_count": 126,
   "metadata": {},
   "outputs": [
    {
     "data": {
      "text/plain": [
       "338976"
      ]
     },
     "execution_count": 126,
     "metadata": {},
     "output_type": "execute_result"
    }
   ],
   "source": [
    "readmission = df.loc[:, ['Facility Name', 'State', 'Period', 'Claim Type', 'Avg Spending Per Episode Hospital', 'Number of Discharges', 'Number of Readmissions']]\n",
    "\n",
    "#raw = df.loc[:, 'Facility Name', 'State', 'Period', 'Claim Type', 'Avg Spending Per Episode Hospital', 'Number of Discharges', 'Number of Readmissions']\n",
    "len(readmission)"
   ]
  },
  {
   "cell_type": "code",
   "execution_count": 127,
   "metadata": {},
   "outputs": [],
   "source": [
    "readmission['Period_and_Claim'] = readmission['Period'] + readmission['Claim Type']"
   ]
  },
  {
   "cell_type": "code",
   "execution_count": 128,
   "metadata": {},
   "outputs": [
    {
     "name": "stdout",
     "output_type": "stream",
     "text": [
      "<class 'pandas.core.frame.DataFrame'>\n",
      "Int64Index: 338976 entries, 0 to 338975\n",
      "Data columns (total 8 columns):\n",
      "Facility Name                        338976 non-null object\n",
      "State                                338976 non-null object\n",
      "Period                               338976 non-null object\n",
      "Claim Type                           338976 non-null object\n",
      "Avg Spending Per Episode Hospital    338976 non-null int64\n",
      "Number of Discharges                 203720 non-null float64\n",
      "Number of Readmissions               202004 non-null float64\n",
      "Period_and_Claim                     338976 non-null object\n",
      "dtypes: float64(2), int64(1), object(5)\n",
      "memory usage: 23.3+ MB\n"
     ]
    }
   ],
   "source": [
    "readmission.info()"
   ]
  },
  {
   "cell_type": "code",
   "execution_count": 129,
   "metadata": {},
   "outputs": [],
   "source": [
    "readmission.drop(columns=['Period', 'Claim Type'], inplace = True)"
   ]
  },
  {
   "cell_type": "code",
   "execution_count": 130,
   "metadata": {},
   "outputs": [],
   "source": [
    "readmission1 = readmission.drop_duplicates()"
   ]
  },
  {
   "cell_type": "code",
   "execution_count": 131,
   "metadata": {},
   "outputs": [
    {
     "name": "stdout",
     "output_type": "stream",
     "text": [
      "<class 'pandas.core.frame.DataFrame'>\n",
      "Int64Index: 251893 entries, 0 to 338975\n",
      "Data columns (total 6 columns):\n",
      "Facility Name                        251893 non-null object\n",
      "State                                251893 non-null object\n",
      "Avg Spending Per Episode Hospital    251893 non-null int64\n",
      "Number of Discharges                 203610 non-null float64\n",
      "Number of Readmissions               201982 non-null float64\n",
      "Period_and_Claim                     251893 non-null object\n",
      "dtypes: float64(2), int64(1), object(3)\n",
      "memory usage: 13.5+ MB\n"
     ]
    }
   ],
   "source": [
    "readmission1.info()"
   ]
  },
  {
   "cell_type": "code",
   "execution_count": 132,
   "metadata": {},
   "outputs": [
    {
     "name": "stderr",
     "output_type": "stream",
     "text": [
      "C:\\Users\\blin261\\Anaconda3\\lib\\site-packages\\pandas\\core\\frame.py:4034: SettingWithCopyWarning: \n",
      "A value is trying to be set on a copy of a slice from a DataFrame\n",
      "\n",
      "See the caveats in the documentation: http://pandas.pydata.org/pandas-docs/stable/indexing.html#indexing-view-versus-copy\n",
      "  downcast=downcast, **kwargs)\n"
     ]
    }
   ],
   "source": [
    "readmission1.fillna(0, inplace = True)"
   ]
  },
  {
   "cell_type": "code",
   "execution_count": 133,
   "metadata": {},
   "outputs": [
    {
     "data": {
      "text/plain": [
       "0.0      49911\n",
       "119.0      814\n",
       "111.0      726\n",
       "153.0      704\n",
       "100.0      704\n",
       "Name: Number of Discharges, dtype: int64"
      ]
     },
     "execution_count": 133,
     "metadata": {},
     "output_type": "execute_result"
    }
   ],
   "source": [
    "readmission1['Number of Discharges'].value_counts(dropna = False).head()"
   ]
  },
  {
   "cell_type": "code",
   "execution_count": 134,
   "metadata": {},
   "outputs": [
    {
     "data": {
      "text/plain": [
       "0.0     49911\n",
       "12.0     5412\n",
       "13.0     5192\n",
       "11.0     5016\n",
       "16.0     4774\n",
       "Name: Number of Readmissions, dtype: int64"
      ]
     },
     "execution_count": 134,
     "metadata": {},
     "output_type": "execute_result"
    }
   ],
   "source": [
    "readmission1['Number of Readmissions'].value_counts(dropna = False).head()"
   ]
  },
  {
   "cell_type": "code",
   "execution_count": 135,
   "metadata": {},
   "outputs": [],
   "source": [
    "total_discharge = readmission1['Number of Discharges'].groupby(readmission1['Facility Name']).sum()\n",
    "#total_discharge.fillna(0)\n",
    "\n",
    "total_readmissions = readmission1['Number of Readmissions'].groupby(readmission1['Facility Name']).sum()\n",
    "#total_readmissions.fillna(0)\n",
    "\n",
    "readmission_rate = total_readmissions / total_discharge"
   ]
  },
  {
   "cell_type": "code",
   "execution_count": 136,
   "metadata": {},
   "outputs": [
    {
     "data": {
      "text/plain": [
       "Facility Name\n",
       "ABBEVILLE GENERAL HOSPITAL          0.147541\n",
       "ABBOTT NORTHWESTERN HOSPITAL        0.147096\n",
       "ABILENE REGIONAL MEDICAL CENTER     0.161720\n",
       "ABINGTON MEMORIAL HOSPITAL          0.144444\n",
       "ABRAZO CENTRAL CAMPUS               0.181507\n",
       "ABRAZO SCOTTSDALE CAMPUS            0.150000\n",
       "ABRAZO WEST CAMPUS                  0.169318\n",
       "ACADIA GENERAL HOSPITAL             0.186520\n",
       "ACMH HOSPITAL                       0.189781\n",
       "ADCARE HOSPITAL OF WORCESTER INC         NaN\n",
       "dtype: float64"
      ]
     },
     "execution_count": 136,
     "metadata": {},
     "output_type": "execute_result"
    }
   ],
   "source": [
    "readmission_rate.head(10)"
   ]
  },
  {
   "cell_type": "code",
   "execution_count": 137,
   "metadata": {},
   "outputs": [
    {
     "data": {
      "text/plain": [
       "NaN         216\n",
       "0.200000     10\n",
       "0.166667      7\n",
       "0.181818      4\n",
       "0.206897      3\n",
       "dtype: int64"
      ]
     },
     "execution_count": 137,
     "metadata": {},
     "output_type": "execute_result"
    }
   ],
   "source": [
    "readmission_rate.value_counts(dropna = False).head()\n",
    "\n",
    "#total_discharge.value_counts(dropna = False).head()\n",
    "#total_discharge.head(20)\n",
    "#total_readmissions.head(20)"
   ]
  },
  {
   "cell_type": "code",
   "execution_count": 138,
   "metadata": {},
   "outputs": [],
   "source": [
    "readmission2 = readmission1.groupby(['Facility Name', 'Period_and_Claim'])['Avg Spending Per Episode Hospital'].aggregate('mean').unstack()\n",
    "\n",
    "#readmission2['State'] = readmission1.groupby(['Facility Name', 'Period_and_Claim']).transform('State')\n",
    "#raw1.groupby(['Facility Name', 'Period_and_Claim'])['Number of Discharges', 'Number of Readmissions'].aggregate('sum').unstack()\n",
    "#origin.pivot_table(values='value', index='label', columns='type')"
   ]
  },
  {
   "cell_type": "code",
   "execution_count": 139,
   "metadata": {},
   "outputs": [],
   "source": [
    "readmission2['readmission_rate'] = readmission_rate"
   ]
  },
  {
   "cell_type": "code",
   "execution_count": 140,
   "metadata": {},
   "outputs": [],
   "source": [
    "readmission3 = readmission2.merge(readmission1[['Facility Name', 'State']], left_on=['Facility Name'], right_on = ['Facility Name'])"
   ]
  },
  {
   "cell_type": "code",
   "execution_count": 141,
   "metadata": {},
   "outputs": [],
   "source": [
    "readmission3 = readmission3.drop_duplicates()"
   ]
  },
  {
   "cell_type": "code",
   "execution_count": 143,
   "metadata": {},
   "outputs": [],
   "source": [
    "readmission3.rename(columns={'1 through 30 days After Discharge from Index Hospital AdmissionCarrier': 'after_carrier',\n",
    "                             '1 through 30 days After Discharge from Index Hospital AdmissionDurable Medical Equipment': 'after_durable_medical_equipment',\n",
    "                             '1 through 30 days After Discharge from Index Hospital AdmissionHome Health Agency': 'after_home_health_agency',\n",
    "                             '1 through 30 days After Discharge from Index Hospital AdmissionHospice': 'after_hospice',\n",
    "                             '1 through 30 days After Discharge from Index Hospital AdmissionInpatient': 'after_inpatient',\n",
    "                             '1 through 30 days After Discharge from Index Hospital AdmissionOutpatient': 'after_outpatient',\n",
    "                             '1 through 30 days After Discharge from Index Hospital AdmissionSkilled Nursing Facility': 'after_skilled_nursing_facility',\n",
    "                             '1 to 3 days Prior to Index Hospital AdmissionCarrier': 'prior_carrier',\n",
    "                             '1 to 3 days Prior to Index Hospital AdmissionDurable Medical Equipment': 'prior_durable_medical_equipment',\n",
    "                             '1 to 3 days Prior to Index Hospital AdmissionHome Health Agency': 'prior_home_health_agency',\n",
    "                             '1 to 3 days Prior to Index Hospital AdmissionHospice': 'prior_hospice',\n",
    "                             '1 to 3 days Prior to Index Hospital AdmissionInpatient': 'prior_inpatient',\n",
    "                             '1 to 3 days Prior to Index Hospital AdmissionOutpatient': 'prior_outpatient',\n",
    "                             '1 to 3 days Prior to Index Hospital AdmissionSkilled Nursing Facility': 'prior_skilled_nursing_facility',\n",
    "                             'Complete EpisodeTotal': 'complete_episode',\n",
    "                             'During Index Hospital AdmissionCarrier': 'index_carrier',\n",
    "                             'During Index Hospital AdmissionDurable Medical Equipment': 'index_durable_medical_equipment',\n",
    "                             'During Index Hospital AdmissionHome Health Agency': 'index_home_health_agency',\n",
    "                             'During Index Hospital AdmissionHospice': 'index_hospice',\n",
    "                             'During Index Hospital AdmissionInpatient': 'index_inpatient',\n",
    "                             'During Index Hospital AdmissionOutpatient': 'index_outpatient',\n",
    "                             'During Index Hospital AdmissionSkilled Nursing Facility': 'index_skilled_nursing_facility'\n",
    "                            }, inplace = True)"
   ]
  },
  {
   "cell_type": "code",
   "execution_count": 144,
   "metadata": {},
   "outputs": [
    {
     "name": "stdout",
     "output_type": "stream",
     "text": [
      "<class 'pandas.core.frame.DataFrame'>\n",
      "Int64Index: 2562 entries, 0 to 251871\n",
      "Data columns (total 25 columns):\n",
      "Facility Name                      2562 non-null object\n",
      "after_carrier                      2562 non-null float64\n",
      "after_durable_medical_equipment    2562 non-null float64\n",
      "after_home_health_agency           2562 non-null float64\n",
      "after_hospice                      2562 non-null float64\n",
      "after_inpatient                    2562 non-null float64\n",
      "after_outpatient                   2562 non-null float64\n",
      "after_skilled_nursing_facility     2562 non-null float64\n",
      "prior_carrier                      2562 non-null float64\n",
      "prior_durable_medical_equipment    2562 non-null float64\n",
      "prior_home_health_agency           2562 non-null float64\n",
      "prior_hospice                      2562 non-null float64\n",
      "prior_inpatient                    2562 non-null float64\n",
      "prior_outpatient                   2562 non-null float64\n",
      "prior_skilled_nursing_facility     2562 non-null float64\n",
      "complete_episode                   2562 non-null float64\n",
      "index_carrier                      2562 non-null float64\n",
      "index_durable_medical_equipment    2562 non-null float64\n",
      "index_home_health_agency           2562 non-null float64\n",
      "index_hospice                      2562 non-null float64\n",
      "index_inpatient                    2562 non-null float64\n",
      "index_outpatient                   2562 non-null float64\n",
      "index_skilled_nursing_facility     2562 non-null float64\n",
      "readmission_rate                   2346 non-null float64\n",
      "State                              2562 non-null object\n",
      "dtypes: float64(23), object(2)\n",
      "memory usage: 520.4+ KB\n"
     ]
    }
   ],
   "source": [
    "readmission3.info()"
   ]
  },
  {
   "cell_type": "code",
   "execution_count": 35,
   "metadata": {},
   "outputs": [
    {
     "data": {
      "text/html": [
       "<div>\n",
       "<style scoped>\n",
       "    .dataframe tbody tr th:only-of-type {\n",
       "        vertical-align: middle;\n",
       "    }\n",
       "\n",
       "    .dataframe tbody tr th {\n",
       "        vertical-align: top;\n",
       "    }\n",
       "\n",
       "    .dataframe thead th {\n",
       "        text-align: right;\n",
       "    }\n",
       "</style>\n",
       "<table border=\"1\" class=\"dataframe\">\n",
       "  <thead>\n",
       "    <tr style=\"text-align: right;\">\n",
       "      <th></th>\n",
       "      <th>Facility Name</th>\n",
       "      <th>after_carrier</th>\n",
       "      <th>after_durable_medical_equipment</th>\n",
       "      <th>after_home_health_agency</th>\n",
       "      <th>after_hospice</th>\n",
       "      <th>after_inpatient</th>\n",
       "      <th>after_outpatient</th>\n",
       "      <th>after_skilled_nursing_facility</th>\n",
       "      <th>prior_carrier</th>\n",
       "      <th>prior_durable_medical_equipment</th>\n",
       "      <th>...</th>\n",
       "      <th>complete_episode</th>\n",
       "      <th>index_carrier</th>\n",
       "      <th>index_durable_medical_equipment</th>\n",
       "      <th>index_home_health_agency</th>\n",
       "      <th>index_hospice</th>\n",
       "      <th>index_inpatient</th>\n",
       "      <th>index_outpatient</th>\n",
       "      <th>index_skilled_nursing_facility</th>\n",
       "      <th>readmission_rate</th>\n",
       "      <th>State</th>\n",
       "    </tr>\n",
       "  </thead>\n",
       "  <tbody>\n",
       "    <tr>\n",
       "      <th>0</th>\n",
       "      <td>ABBEVILLE GENERAL HOSPITAL</td>\n",
       "      <td>1047.0</td>\n",
       "      <td>40.0</td>\n",
       "      <td>646.0</td>\n",
       "      <td>404.0</td>\n",
       "      <td>3354.0</td>\n",
       "      <td>954.0</td>\n",
       "      <td>5907.0</td>\n",
       "      <td>536.0</td>\n",
       "      <td>8.0</td>\n",
       "      <td>...</td>\n",
       "      <td>21917.0</td>\n",
       "      <td>927.0</td>\n",
       "      <td>51.0</td>\n",
       "      <td>0.0</td>\n",
       "      <td>0.0</td>\n",
       "      <td>7974.0</td>\n",
       "      <td>0.0</td>\n",
       "      <td>0.0</td>\n",
       "      <td>0.147541</td>\n",
       "      <td>LA</td>\n",
       "    </tr>\n",
       "    <tr>\n",
       "      <th>66</th>\n",
       "      <td>ABBOTT NORTHWESTERN HOSPITAL</td>\n",
       "      <td>967.0</td>\n",
       "      <td>100.0</td>\n",
       "      <td>553.0</td>\n",
       "      <td>103.0</td>\n",
       "      <td>2144.0</td>\n",
       "      <td>973.0</td>\n",
       "      <td>2367.0</td>\n",
       "      <td>393.0</td>\n",
       "      <td>6.0</td>\n",
       "      <td>...</td>\n",
       "      <td>23223.0</td>\n",
       "      <td>2118.0</td>\n",
       "      <td>16.0</td>\n",
       "      <td>0.0</td>\n",
       "      <td>0.0</td>\n",
       "      <td>12863.0</td>\n",
       "      <td>0.0</td>\n",
       "      <td>0.0</td>\n",
       "      <td>0.147096</td>\n",
       "      <td>MN</td>\n",
       "    </tr>\n",
       "    <tr>\n",
       "      <th>198</th>\n",
       "      <td>ABILENE REGIONAL MEDICAL CENTER</td>\n",
       "      <td>997.0</td>\n",
       "      <td>69.0</td>\n",
       "      <td>1025.0</td>\n",
       "      <td>170.0</td>\n",
       "      <td>5357.0</td>\n",
       "      <td>718.0</td>\n",
       "      <td>3056.0</td>\n",
       "      <td>592.0</td>\n",
       "      <td>8.0</td>\n",
       "      <td>...</td>\n",
       "      <td>24514.0</td>\n",
       "      <td>1535.0</td>\n",
       "      <td>13.0</td>\n",
       "      <td>0.0</td>\n",
       "      <td>0.0</td>\n",
       "      <td>10735.0</td>\n",
       "      <td>0.0</td>\n",
       "      <td>0.0</td>\n",
       "      <td>0.161720</td>\n",
       "      <td>TX</td>\n",
       "    </tr>\n",
       "    <tr>\n",
       "      <th>308</th>\n",
       "      <td>ABINGTON MEMORIAL HOSPITAL</td>\n",
       "      <td>1280.0</td>\n",
       "      <td>72.0</td>\n",
       "      <td>994.0</td>\n",
       "      <td>135.0</td>\n",
       "      <td>2210.0</td>\n",
       "      <td>663.0</td>\n",
       "      <td>3176.0</td>\n",
       "      <td>659.0</td>\n",
       "      <td>5.0</td>\n",
       "      <td>...</td>\n",
       "      <td>19505.0</td>\n",
       "      <td>1435.0</td>\n",
       "      <td>10.0</td>\n",
       "      <td>0.0</td>\n",
       "      <td>0.0</td>\n",
       "      <td>8787.0</td>\n",
       "      <td>0.0</td>\n",
       "      <td>0.0</td>\n",
       "      <td>0.144444</td>\n",
       "      <td>PA</td>\n",
       "    </tr>\n",
       "    <tr>\n",
       "      <th>440</th>\n",
       "      <td>ABRAZO CENTRAL CAMPUS</td>\n",
       "      <td>1428.0</td>\n",
       "      <td>51.0</td>\n",
       "      <td>703.0</td>\n",
       "      <td>309.0</td>\n",
       "      <td>3356.0</td>\n",
       "      <td>793.0</td>\n",
       "      <td>3169.0</td>\n",
       "      <td>872.0</td>\n",
       "      <td>4.0</td>\n",
       "      <td>...</td>\n",
       "      <td>22504.0</td>\n",
       "      <td>2024.0</td>\n",
       "      <td>40.0</td>\n",
       "      <td>0.0</td>\n",
       "      <td>0.0</td>\n",
       "      <td>9501.0</td>\n",
       "      <td>0.0</td>\n",
       "      <td>0.0</td>\n",
       "      <td>0.181507</td>\n",
       "      <td>AZ</td>\n",
       "    </tr>\n",
       "  </tbody>\n",
       "</table>\n",
       "<p>5 rows × 25 columns</p>\n",
       "</div>"
      ],
      "text/plain": [
       "                       Facility Name  after_carrier  \\\n",
       "0         ABBEVILLE GENERAL HOSPITAL         1047.0   \n",
       "66      ABBOTT NORTHWESTERN HOSPITAL          967.0   \n",
       "198  ABILENE REGIONAL MEDICAL CENTER          997.0   \n",
       "308       ABINGTON MEMORIAL HOSPITAL         1280.0   \n",
       "440            ABRAZO CENTRAL CAMPUS         1428.0   \n",
       "\n",
       "     after_durable_medical_equipment  after_home_health_agency  after_hospice  \\\n",
       "0                               40.0                     646.0          404.0   \n",
       "66                             100.0                     553.0          103.0   \n",
       "198                             69.0                    1025.0          170.0   \n",
       "308                             72.0                     994.0          135.0   \n",
       "440                             51.0                     703.0          309.0   \n",
       "\n",
       "     after_inpatient  after_outpatient  after_skilled_nursing_facility  \\\n",
       "0             3354.0             954.0                          5907.0   \n",
       "66            2144.0             973.0                          2367.0   \n",
       "198           5357.0             718.0                          3056.0   \n",
       "308           2210.0             663.0                          3176.0   \n",
       "440           3356.0             793.0                          3169.0   \n",
       "\n",
       "     prior_carrier  prior_durable_medical_equipment  ...  complete_episode  \\\n",
       "0            536.0                              8.0  ...           21917.0   \n",
       "66           393.0                              6.0  ...           23223.0   \n",
       "198          592.0                              8.0  ...           24514.0   \n",
       "308          659.0                              5.0  ...           19505.0   \n",
       "440          872.0                              4.0  ...           22504.0   \n",
       "\n",
       "     index_carrier  index_durable_medical_equipment  index_home_health_agency  \\\n",
       "0            927.0                             51.0                       0.0   \n",
       "66          2118.0                             16.0                       0.0   \n",
       "198         1535.0                             13.0                       0.0   \n",
       "308         1435.0                             10.0                       0.0   \n",
       "440         2024.0                             40.0                       0.0   \n",
       "\n",
       "     index_hospice  index_inpatient  index_outpatient  \\\n",
       "0              0.0           7974.0               0.0   \n",
       "66             0.0          12863.0               0.0   \n",
       "198            0.0          10735.0               0.0   \n",
       "308            0.0           8787.0               0.0   \n",
       "440            0.0           9501.0               0.0   \n",
       "\n",
       "     index_skilled_nursing_facility  readmission_rate  State  \n",
       "0                               0.0          0.147541     LA  \n",
       "66                              0.0          0.147096     MN  \n",
       "198                             0.0          0.161720     TX  \n",
       "308                             0.0          0.144444     PA  \n",
       "440                             0.0          0.181507     AZ  \n",
       "\n",
       "[5 rows x 25 columns]"
      ]
     },
     "execution_count": 35,
     "metadata": {},
     "output_type": "execute_result"
    }
   ],
   "source": [
    "readmission3.head()"
   ]
  },
  {
   "cell_type": "code",
   "execution_count": 36,
   "metadata": {},
   "outputs": [
    {
     "data": {
      "text/html": [
       "<div>\n",
       "<style scoped>\n",
       "    .dataframe tbody tr th:only-of-type {\n",
       "        vertical-align: middle;\n",
       "    }\n",
       "\n",
       "    .dataframe tbody tr th {\n",
       "        vertical-align: top;\n",
       "    }\n",
       "\n",
       "    .dataframe thead th {\n",
       "        text-align: right;\n",
       "    }\n",
       "</style>\n",
       "<table border=\"1\" class=\"dataframe\">\n",
       "  <thead>\n",
       "    <tr style=\"text-align: right;\">\n",
       "      <th></th>\n",
       "      <th>after_carrier</th>\n",
       "      <th>after_durable_medical_equipment</th>\n",
       "      <th>after_home_health_agency</th>\n",
       "      <th>after_hospice</th>\n",
       "      <th>after_inpatient</th>\n",
       "      <th>after_outpatient</th>\n",
       "      <th>after_skilled_nursing_facility</th>\n",
       "      <th>prior_carrier</th>\n",
       "      <th>prior_durable_medical_equipment</th>\n",
       "      <th>prior_home_health_agency</th>\n",
       "      <th>...</th>\n",
       "      <th>prior_skilled_nursing_facility</th>\n",
       "      <th>complete_episode</th>\n",
       "      <th>index_carrier</th>\n",
       "      <th>index_durable_medical_equipment</th>\n",
       "      <th>index_home_health_agency</th>\n",
       "      <th>index_hospice</th>\n",
       "      <th>index_inpatient</th>\n",
       "      <th>index_outpatient</th>\n",
       "      <th>index_skilled_nursing_facility</th>\n",
       "      <th>readmission_rate</th>\n",
       "    </tr>\n",
       "  </thead>\n",
       "  <tbody>\n",
       "    <tr>\n",
       "      <th>count</th>\n",
       "      <td>2562.000000</td>\n",
       "      <td>2562.000000</td>\n",
       "      <td>2562.000000</td>\n",
       "      <td>2562.000000</td>\n",
       "      <td>2562.000000</td>\n",
       "      <td>2562.000000</td>\n",
       "      <td>2562.000000</td>\n",
       "      <td>2562.000000</td>\n",
       "      <td>2562.000000</td>\n",
       "      <td>2562.000000</td>\n",
       "      <td>...</td>\n",
       "      <td>2562.000000</td>\n",
       "      <td>2562.000000</td>\n",
       "      <td>2562.000000</td>\n",
       "      <td>2562.000000</td>\n",
       "      <td>2562.0</td>\n",
       "      <td>2562.0</td>\n",
       "      <td>2562.000000</td>\n",
       "      <td>2562.0</td>\n",
       "      <td>2562.0</td>\n",
       "      <td>2346.000000</td>\n",
       "    </tr>\n",
       "    <tr>\n",
       "      <th>mean</th>\n",
       "      <td>1050.690031</td>\n",
       "      <td>84.279468</td>\n",
       "      <td>781.304547</td>\n",
       "      <td>155.836882</td>\n",
       "      <td>2559.866725</td>\n",
       "      <td>784.704997</td>\n",
       "      <td>3240.481674</td>\n",
       "      <td>526.446765</td>\n",
       "      <td>7.645706</td>\n",
       "      <td>12.989972</td>\n",
       "      <td>...</td>\n",
       "      <td>2.178205</td>\n",
       "      <td>19970.703230</td>\n",
       "      <td>1292.684507</td>\n",
       "      <td>18.873706</td>\n",
       "      <td>0.0</td>\n",
       "      <td>0.0</td>\n",
       "      <td>9327.931733</td>\n",
       "      <td>0.0</td>\n",
       "      <td>0.0</td>\n",
       "      <td>0.167798</td>\n",
       "    </tr>\n",
       "    <tr>\n",
       "      <th>std</th>\n",
       "      <td>322.491817</td>\n",
       "      <td>61.209256</td>\n",
       "      <td>326.666745</td>\n",
       "      <td>91.810554</td>\n",
       "      <td>1151.646183</td>\n",
       "      <td>290.584005</td>\n",
       "      <td>1314.362190</td>\n",
       "      <td>155.327305</td>\n",
       "      <td>8.976624</td>\n",
       "      <td>12.500736</td>\n",
       "      <td>...</td>\n",
       "      <td>2.968805</td>\n",
       "      <td>3410.545885</td>\n",
       "      <td>520.417022</td>\n",
       "      <td>31.996638</td>\n",
       "      <td>0.0</td>\n",
       "      <td>0.0</td>\n",
       "      <td>2211.067220</td>\n",
       "      <td>0.0</td>\n",
       "      <td>0.0</td>\n",
       "      <td>0.045579</td>\n",
       "    </tr>\n",
       "    <tr>\n",
       "      <th>min</th>\n",
       "      <td>169.000000</td>\n",
       "      <td>0.000000</td>\n",
       "      <td>0.000000</td>\n",
       "      <td>0.000000</td>\n",
       "      <td>0.000000</td>\n",
       "      <td>75.000000</td>\n",
       "      <td>0.000000</td>\n",
       "      <td>18.000000</td>\n",
       "      <td>0.000000</td>\n",
       "      <td>0.000000</td>\n",
       "      <td>...</td>\n",
       "      <td>0.000000</td>\n",
       "      <td>6913.000000</td>\n",
       "      <td>0.000000</td>\n",
       "      <td>0.000000</td>\n",
       "      <td>0.0</td>\n",
       "      <td>0.0</td>\n",
       "      <td>4324.000000</td>\n",
       "      <td>0.0</td>\n",
       "      <td>0.0</td>\n",
       "      <td>0.019718</td>\n",
       "    </tr>\n",
       "    <tr>\n",
       "      <th>25%</th>\n",
       "      <td>819.000000</td>\n",
       "      <td>56.250000</td>\n",
       "      <td>588.000000</td>\n",
       "      <td>100.000000</td>\n",
       "      <td>1769.250000</td>\n",
       "      <td>599.818182</td>\n",
       "      <td>2497.000000</td>\n",
       "      <td>455.250000</td>\n",
       "      <td>4.000000</td>\n",
       "      <td>5.000000</td>\n",
       "      <td>...</td>\n",
       "      <td>0.000000</td>\n",
       "      <td>17875.000000</td>\n",
       "      <td>927.000000</td>\n",
       "      <td>9.000000</td>\n",
       "      <td>0.0</td>\n",
       "      <td>0.0</td>\n",
       "      <td>7971.800000</td>\n",
       "      <td>0.0</td>\n",
       "      <td>0.0</td>\n",
       "      <td>0.143009</td>\n",
       "    </tr>\n",
       "    <tr>\n",
       "      <th>50%</th>\n",
       "      <td>1029.000000</td>\n",
       "      <td>75.000000</td>\n",
       "      <td>778.000000</td>\n",
       "      <td>146.000000</td>\n",
       "      <td>2376.000000</td>\n",
       "      <td>761.000000</td>\n",
       "      <td>3154.500000</td>\n",
       "      <td>539.071429</td>\n",
       "      <td>6.000000</td>\n",
       "      <td>11.000000</td>\n",
       "      <td>...</td>\n",
       "      <td>2.000000</td>\n",
       "      <td>20123.500000</td>\n",
       "      <td>1317.125000</td>\n",
       "      <td>14.000000</td>\n",
       "      <td>0.0</td>\n",
       "      <td>0.0</td>\n",
       "      <td>9058.000000</td>\n",
       "      <td>0.0</td>\n",
       "      <td>0.0</td>\n",
       "      <td>0.168876</td>\n",
       "    </tr>\n",
       "    <tr>\n",
       "      <th>75%</th>\n",
       "      <td>1264.750000</td>\n",
       "      <td>97.000000</td>\n",
       "      <td>945.750000</td>\n",
       "      <td>201.000000</td>\n",
       "      <td>3154.100000</td>\n",
       "      <td>919.000000</td>\n",
       "      <td>3946.000000</td>\n",
       "      <td>603.000000</td>\n",
       "      <td>9.000000</td>\n",
       "      <td>18.000000</td>\n",
       "      <td>...</td>\n",
       "      <td>3.000000</td>\n",
       "      <td>22058.250000</td>\n",
       "      <td>1604.750000</td>\n",
       "      <td>22.000000</td>\n",
       "      <td>0.0</td>\n",
       "      <td>0.0</td>\n",
       "      <td>10290.750000</td>\n",
       "      <td>0.0</td>\n",
       "      <td>0.0</td>\n",
       "      <td>0.195520</td>\n",
       "    </tr>\n",
       "    <tr>\n",
       "      <th>max</th>\n",
       "      <td>2528.000000</td>\n",
       "      <td>1568.000000</td>\n",
       "      <td>3561.000000</td>\n",
       "      <td>746.000000</td>\n",
       "      <td>8977.000000</td>\n",
       "      <td>4404.000000</td>\n",
       "      <td>13817.000000</td>\n",
       "      <td>1840.000000</td>\n",
       "      <td>223.000000</td>\n",
       "      <td>248.000000</td>\n",
       "      <td>...</td>\n",
       "      <td>46.000000</td>\n",
       "      <td>37651.000000</td>\n",
       "      <td>5016.000000</td>\n",
       "      <td>1246.000000</td>\n",
       "      <td>0.0</td>\n",
       "      <td>0.0</td>\n",
       "      <td>27581.000000</td>\n",
       "      <td>0.0</td>\n",
       "      <td>0.0</td>\n",
       "      <td>0.361111</td>\n",
       "    </tr>\n",
       "  </tbody>\n",
       "</table>\n",
       "<p>8 rows × 23 columns</p>\n",
       "</div>"
      ],
      "text/plain": [
       "       after_carrier  after_durable_medical_equipment  \\\n",
       "count    2562.000000                      2562.000000   \n",
       "mean     1050.690031                        84.279468   \n",
       "std       322.491817                        61.209256   \n",
       "min       169.000000                         0.000000   \n",
       "25%       819.000000                        56.250000   \n",
       "50%      1029.000000                        75.000000   \n",
       "75%      1264.750000                        97.000000   \n",
       "max      2528.000000                      1568.000000   \n",
       "\n",
       "       after_home_health_agency  after_hospice  after_inpatient  \\\n",
       "count               2562.000000    2562.000000      2562.000000   \n",
       "mean                 781.304547     155.836882      2559.866725   \n",
       "std                  326.666745      91.810554      1151.646183   \n",
       "min                    0.000000       0.000000         0.000000   \n",
       "25%                  588.000000     100.000000      1769.250000   \n",
       "50%                  778.000000     146.000000      2376.000000   \n",
       "75%                  945.750000     201.000000      3154.100000   \n",
       "max                 3561.000000     746.000000      8977.000000   \n",
       "\n",
       "       after_outpatient  after_skilled_nursing_facility  prior_carrier  \\\n",
       "count       2562.000000                     2562.000000    2562.000000   \n",
       "mean         784.704997                     3240.481674     526.446765   \n",
       "std          290.584005                     1314.362190     155.327305   \n",
       "min           75.000000                        0.000000      18.000000   \n",
       "25%          599.818182                     2497.000000     455.250000   \n",
       "50%          761.000000                     3154.500000     539.071429   \n",
       "75%          919.000000                     3946.000000     603.000000   \n",
       "max         4404.000000                    13817.000000    1840.000000   \n",
       "\n",
       "       prior_durable_medical_equipment  prior_home_health_agency  ...  \\\n",
       "count                      2562.000000               2562.000000  ...   \n",
       "mean                          7.645706                 12.989972  ...   \n",
       "std                           8.976624                 12.500736  ...   \n",
       "min                           0.000000                  0.000000  ...   \n",
       "25%                           4.000000                  5.000000  ...   \n",
       "50%                           6.000000                 11.000000  ...   \n",
       "75%                           9.000000                 18.000000  ...   \n",
       "max                         223.000000                248.000000  ...   \n",
       "\n",
       "       prior_skilled_nursing_facility  complete_episode  index_carrier  \\\n",
       "count                     2562.000000       2562.000000    2562.000000   \n",
       "mean                         2.178205      19970.703230    1292.684507   \n",
       "std                          2.968805       3410.545885     520.417022   \n",
       "min                          0.000000       6913.000000       0.000000   \n",
       "25%                          0.000000      17875.000000     927.000000   \n",
       "50%                          2.000000      20123.500000    1317.125000   \n",
       "75%                          3.000000      22058.250000    1604.750000   \n",
       "max                         46.000000      37651.000000    5016.000000   \n",
       "\n",
       "       index_durable_medical_equipment  index_home_health_agency  \\\n",
       "count                      2562.000000                    2562.0   \n",
       "mean                         18.873706                       0.0   \n",
       "std                          31.996638                       0.0   \n",
       "min                           0.000000                       0.0   \n",
       "25%                           9.000000                       0.0   \n",
       "50%                          14.000000                       0.0   \n",
       "75%                          22.000000                       0.0   \n",
       "max                        1246.000000                       0.0   \n",
       "\n",
       "       index_hospice  index_inpatient  index_outpatient  \\\n",
       "count         2562.0      2562.000000            2562.0   \n",
       "mean             0.0      9327.931733               0.0   \n",
       "std              0.0      2211.067220               0.0   \n",
       "min              0.0      4324.000000               0.0   \n",
       "25%              0.0      7971.800000               0.0   \n",
       "50%              0.0      9058.000000               0.0   \n",
       "75%              0.0     10290.750000               0.0   \n",
       "max              0.0     27581.000000               0.0   \n",
       "\n",
       "       index_skilled_nursing_facility  readmission_rate  \n",
       "count                          2562.0       2346.000000  \n",
       "mean                              0.0          0.167798  \n",
       "std                               0.0          0.045579  \n",
       "min                               0.0          0.019718  \n",
       "25%                               0.0          0.143009  \n",
       "50%                               0.0          0.168876  \n",
       "75%                               0.0          0.195520  \n",
       "max                               0.0          0.361111  \n",
       "\n",
       "[8 rows x 23 columns]"
      ]
     },
     "execution_count": 36,
     "metadata": {},
     "output_type": "execute_result"
    }
   ],
   "source": [
    "readmission3.describe()"
   ]
  },
  {
   "cell_type": "code",
   "execution_count": 37,
   "metadata": {},
   "outputs": [],
   "source": [
    "readmission3.drop(columns=['index_home_health_agency', 'index_hospice', 'index_outpatient', 'index_skilled_nursing_facility'], inplace = True)\n",
    "readmission3.dropna(inplace = True)"
   ]
  },
  {
   "cell_type": "code",
   "execution_count": 42,
   "metadata": {},
   "outputs": [
    {
     "name": "stdout",
     "output_type": "stream",
     "text": [
      "State\n",
      "AK    0.152701\n",
      "AL    0.170894\n",
      "AR    0.169058\n",
      "AZ    0.138231\n",
      "CA    0.177527\n",
      "CO    0.125604\n",
      "CT    0.164015\n",
      "DC    0.196796\n",
      "DE    0.140321\n",
      "FL    0.186488\n",
      "Name: readmission_rate, dtype: float64\n"
     ]
    }
   ],
   "source": [
    "temp = readmission3.groupby('State')['readmission_rate'].aggregate('mean')\n",
    "temp.to_frame()\n",
    "print(temp.head(10))\n",
    "temp.sort_values(inplace=True)"
   ]
  },
  {
   "cell_type": "code",
   "execution_count": 43,
   "metadata": {},
   "outputs": [
    {
     "data": {
      "text/plain": [
       "Text(0, 0.5, 'Readmission Rate')"
      ]
     },
     "execution_count": 43,
     "metadata": {},
     "output_type": "execute_result"
    },
    {
     "data": {
      "image/png": "[encoded data removed]",
      "text/plain": [
       "<Figure size 1440x720 with 1 Axes>"
      ]
     },
     "metadata": {
      "needs_background": "light"
     },
     "output_type": "display_data"
    }
   ],
   "source": [
    "%matplotlib inline\n",
    "plt.figure(figsize=(20,10))\n",
    "ax = temp.plot(kind='bar')\n",
    "ax.set_ylabel('Readmission Rate')\n",
    "#plt.bar(x = temp, label = 'Readmission Rate')\n",
    "#plt.show()"
   ]
  },
  {
   "cell_type": "code",
   "execution_count": 148,
   "metadata": {},
   "outputs": [
    {
     "data": {
      "image/png": "[encoded data removed]",
      "text/plain": [
       "<Figure size 432x288 with 1 Axes>"
      ]
     },
     "metadata": {
      "needs_background": "light"
     },
     "output_type": "display_data"
    }
   ],
   "source": [
    "%matplotlib inline\n",
    "ax = readmission3[['readmission_rate']].boxplot()\n",
    "ax.set_xticklabels(ax.get_xticklabels(), rotation = 90)\n",
    "plt.ylabel(\"Readmission Rate\")\n",
    "plt.show()"
   ]
  },
  {
   "cell_type": "code",
   "execution_count": 150,
   "metadata": {},
   "outputs": [
    {
     "data": {
      "image/png": "[encoded data removed]",
      "text/plain": [
       "<Figure size 432x288 with 1 Axes>"
      ]
     },
     "metadata": {
      "needs_background": "light"
     },
     "output_type": "display_data"
    }
   ],
   "source": [
    "%matplotlib inline\n",
    "readmission3['readmission_rate'].hist()\n",
    "plt.ylabel(\"Readmission Rate\")\n",
    "plt.show()"
   ]
  },
  {
   "cell_type": "code",
   "execution_count": 154,
   "metadata": {},
   "outputs": [
    {
     "data": {
      "image/png": "[encoded data removed]",
      "text/plain": [
       "<Figure size 432x288 with 1 Axes>"
      ]
     },
     "metadata": {
      "needs_background": "light"
     },
     "output_type": "display_data"
    }
   ],
   "source": [
    "from statsmodels.graphics.gofplots import qqplot\n",
    "\n",
    "qqplot(readmission3['readmission_rate'], line='s')\n",
    "plt.show()"
   ]
  },
  {
   "cell_type": "code",
   "execution_count": 44,
   "metadata": {},
   "outputs": [
    {
     "data": {
      "text/plain": [
       "[Text(0, 0, 'after_carrier'),\n",
       " Text(0, 0, 'after_durable_medical_equipment'),\n",
       " Text(0, 0, 'after_home_health_agency'),\n",
       " Text(0, 0, 'after_hospice'),\n",
       " Text(0, 0, 'after_inpatient'),\n",
       " Text(0, 0, 'after_outpatient'),\n",
       " Text(0, 0, 'after_skilled_nursing_facility'),\n",
       " Text(0, 0, 'prior_carrier'),\n",
       " Text(0, 0, 'prior_durable_medical_equipment'),\n",
       " Text(0, 0, 'prior_home_health_agency'),\n",
       " Text(0, 0, 'prior_hospice'),\n",
       " Text(0, 0, 'prior_inpatient'),\n",
       " Text(0, 0, 'prior_outpatient'),\n",
       " Text(0, 0, 'prior_skilled_nursing_facility'),\n",
       " Text(0, 0, 'complete_episode'),\n",
       " Text(0, 0, 'index_carrier'),\n",
       " Text(0, 0, 'index_durable_medical_equipment'),\n",
       " Text(0, 0, 'index_inpatient'),\n",
       " Text(0, 0, 'readmission_rate')]"
      ]
     },
     "execution_count": 44,
     "metadata": {},
     "output_type": "execute_result"
    },
    {
     "data": {
      "image/png": "[encoded data removed]",
      "text/plain": [
       "<Figure size 1440x720 with 1 Axes>"
      ]
     },
     "metadata": {
      "needs_background": "light"
     },
     "output_type": "display_data"
    }
   ],
   "source": [
    "%matplotlib inline\n",
    "plt.figure(figsize=(20,10))\n",
    "ax = readmission3.boxplot()\n",
    "ax.set_xticklabels(ax.get_xticklabels(), rotation = 90)"
   ]
  },
  {
   "cell_type": "code",
   "execution_count": 45,
   "metadata": {},
   "outputs": [
    {
     "data": {
      "image/png": "[encoded data removed]",
      "text/plain": [
       "<Figure size 864x720 with 2 Axes>"
      ]
     },
     "metadata": {
      "needs_background": "light"
     },
     "output_type": "display_data"
    }
   ],
   "source": [
    "correlation_matrix = readmission3.corr()\n",
    "\n",
    "#Using Pearson Correlation\n",
    "plt.figure(figsize=(12,10))\n",
    "sn.heatmap(correlation_matrix, annot=True, cmap=plt.cm.Reds)\n",
    "plt.show()"
   ]
  },
  {
   "cell_type": "code",
   "execution_count": 46,
   "metadata": {},
   "outputs": [],
   "source": [
    "feature_names = list(readmission3.columns.values)\n",
    "feature_names.remove('Facility Name')\n",
    "feature_names.remove('State')\n",
    "feature_names.remove('readmission_rate')\n",
    "X = readmission3[feature_names]\n",
    "Y = readmission3['readmission_rate']"
   ]
  },
  {
   "cell_type": "code",
   "execution_count": 48,
   "metadata": {},
   "outputs": [],
   "source": [
    "from sklearn.preprocessing import StandardScaler\n",
    "scaler = StandardScaler()\n",
    "X = scaler.fit_transform(X)\n",
    "X = pd.DataFrame(X, index=readmission3[feature_names].index, columns=readmission3[feature_names].columns)"
   ]
  },
  {
   "cell_type": "code",
   "execution_count": 49,
   "metadata": {},
   "outputs": [],
   "source": [
    "X_train, X_test, Y_train, Y_test = train_test_split(X, Y, test_size=0.2, random_state=1)"
   ]
  },
  {
   "cell_type": "code",
   "execution_count": 197,
   "metadata": {},
   "outputs": [],
   "source": [
    "# Initialise and fit model\n",
    "lm_model = LinearRegression()\n",
    "lm_model = lm_model.fit(X_train, Y_train)"
   ]
  },
  {
   "cell_type": "code",
   "execution_count": 198,
   "metadata": {},
   "outputs": [],
   "source": [
    "Y_pred = lm_model.predict(X_test)"
   ]
  },
  {
   "cell_type": "code",
   "execution_count": 199,
   "metadata": {},
   "outputs": [
    {
     "name": "stdout",
     "output_type": "stream",
     "text": [
      "alpha = 0.1678751983882069\n",
      "betas = [ 0.18282984  0.02672959  0.14618193  0.03971957  0.60215549  0.14474436\n",
      "  0.64743152  0.07645032  0.00203534  0.00829776  0.00226031  0.00827433\n",
      "  0.06352284  0.00306188 -1.60875638  0.23959058  0.00744035  0.99521226]\n"
     ]
    }
   ],
   "source": [
    "print(f'alpha = {lm_model.intercept_}')\n",
    "print(f'betas = {lm_model.coef_}')"
   ]
  },
  {
   "cell_type": "code",
   "execution_count": 200,
   "metadata": {},
   "outputs": [
    {
     "data": {
      "text/html": [
       "<div>\n",
       "<style scoped>\n",
       "    .dataframe tbody tr th:only-of-type {\n",
       "        vertical-align: middle;\n",
       "    }\n",
       "\n",
       "    .dataframe tbody tr th {\n",
       "        vertical-align: top;\n",
       "    }\n",
       "\n",
       "    .dataframe thead th {\n",
       "        text-align: right;\n",
       "    }\n",
       "</style>\n",
       "<table border=\"1\" class=\"dataframe\">\n",
       "  <thead>\n",
       "    <tr style=\"text-align: right;\">\n",
       "      <th></th>\n",
       "      <th>Coefficient</th>\n",
       "    </tr>\n",
       "  </thead>\n",
       "  <tbody>\n",
       "    <tr>\n",
       "      <th>after_carrier</th>\n",
       "      <td>0.182830</td>\n",
       "    </tr>\n",
       "    <tr>\n",
       "      <th>after_durable_medical_equipment</th>\n",
       "      <td>0.026730</td>\n",
       "    </tr>\n",
       "    <tr>\n",
       "      <th>after_home_health_agency</th>\n",
       "      <td>0.146182</td>\n",
       "    </tr>\n",
       "    <tr>\n",
       "      <th>after_hospice</th>\n",
       "      <td>0.039720</td>\n",
       "    </tr>\n",
       "    <tr>\n",
       "      <th>after_inpatient</th>\n",
       "      <td>0.602155</td>\n",
       "    </tr>\n",
       "    <tr>\n",
       "      <th>after_outpatient</th>\n",
       "      <td>0.144744</td>\n",
       "    </tr>\n",
       "    <tr>\n",
       "      <th>after_skilled_nursing_facility</th>\n",
       "      <td>0.647432</td>\n",
       "    </tr>\n",
       "    <tr>\n",
       "      <th>prior_carrier</th>\n",
       "      <td>0.076450</td>\n",
       "    </tr>\n",
       "    <tr>\n",
       "      <th>prior_durable_medical_equipment</th>\n",
       "      <td>0.002035</td>\n",
       "    </tr>\n",
       "    <tr>\n",
       "      <th>prior_home_health_agency</th>\n",
       "      <td>0.008298</td>\n",
       "    </tr>\n",
       "    <tr>\n",
       "      <th>prior_hospice</th>\n",
       "      <td>0.002260</td>\n",
       "    </tr>\n",
       "    <tr>\n",
       "      <th>prior_inpatient</th>\n",
       "      <td>0.008274</td>\n",
       "    </tr>\n",
       "    <tr>\n",
       "      <th>prior_outpatient</th>\n",
       "      <td>0.063523</td>\n",
       "    </tr>\n",
       "    <tr>\n",
       "      <th>prior_skilled_nursing_facility</th>\n",
       "      <td>0.003062</td>\n",
       "    </tr>\n",
       "    <tr>\n",
       "      <th>complete_episode</th>\n",
       "      <td>-1.608756</td>\n",
       "    </tr>\n",
       "    <tr>\n",
       "      <th>index_carrier</th>\n",
       "      <td>0.239591</td>\n",
       "    </tr>\n",
       "    <tr>\n",
       "      <th>index_durable_medical_equipment</th>\n",
       "      <td>0.007440</td>\n",
       "    </tr>\n",
       "    <tr>\n",
       "      <th>index_inpatient</th>\n",
       "      <td>0.995212</td>\n",
       "    </tr>\n",
       "  </tbody>\n",
       "</table>\n",
       "</div>"
      ],
      "text/plain": [
       "                                 Coefficient\n",
       "after_carrier                       0.182830\n",
       "after_durable_medical_equipment     0.026730\n",
       "after_home_health_agency            0.146182\n",
       "after_hospice                       0.039720\n",
       "after_inpatient                     0.602155\n",
       "after_outpatient                    0.144744\n",
       "after_skilled_nursing_facility      0.647432\n",
       "prior_carrier                       0.076450\n",
       "prior_durable_medical_equipment     0.002035\n",
       "prior_home_health_agency            0.008298\n",
       "prior_hospice                       0.002260\n",
       "prior_inpatient                     0.008274\n",
       "prior_outpatient                    0.063523\n",
       "prior_skilled_nursing_facility      0.003062\n",
       "complete_episode                   -1.608756\n",
       "index_carrier                       0.239591\n",
       "index_durable_medical_equipment     0.007440\n",
       "index_inpatient                     0.995212"
      ]
     },
     "execution_count": 200,
     "metadata": {},
     "output_type": "execute_result"
    }
   ],
   "source": [
    "coeff_df = pd.DataFrame(lm_model.coef_, X_train.columns, columns=['Coefficient'])  \n",
    "coeff_df"
   ]
  },
  {
   "cell_type": "code",
   "execution_count": 201,
   "metadata": {},
   "outputs": [
    {
     "name": "stdout",
     "output_type": "stream",
     "text": [
      "Score: 0.4756466890871869\n"
     ]
    }
   ],
   "source": [
    "print('Score:', lm_model.score(X_test, Y_test))"
   ]
  },
  {
   "cell_type": "code",
   "execution_count": 202,
   "metadata": {},
   "outputs": [
    {
     "name": "stdout",
     "output_type": "stream",
     "text": [
      "Mean Cross-validated scores: 0.45130855458237634\n"
     ]
    }
   ],
   "source": [
    "lm_scores = cross_val_score(lm_model, X, Y, cv=10)\n",
    "print('Mean Cross-validated scores:', np.mean(lm_scores))"
   ]
  },
  {
   "cell_type": "code",
   "execution_count": 203,
   "metadata": {},
   "outputs": [],
   "source": [
    "Y_pred = cross_val_predict(lm_model, X, Y, cv=10)"
   ]
  },
  {
   "cell_type": "code",
   "execution_count": 204,
   "metadata": {},
   "outputs": [
    {
     "data": {
      "image/png": "[encoded data removed]",
      "text/plain": [
       "<Figure size 432x288 with 1 Axes>"
      ]
     },
     "metadata": {
      "needs_background": "light"
     },
     "output_type": "display_data"
    }
   ],
   "source": [
    "plt.scatter(Y, Y_pred)\n",
    "plt.xlabel(\"Actual Value\")\n",
    "plt.ylabel('Predicted Value')\n",
    "plt.show()"
   ]
  },
  {
   "cell_type": "code",
   "execution_count": 205,
   "metadata": {},
   "outputs": [
    {
     "name": "stdout",
     "output_type": "stream",
     "text": [
      "Model Accuracy R^2: 0.4658689444977252\n",
      "Mean Absolute Error: 0.025316375788329945\n",
      "Mean Squared Error: 0.0011091736487517767\n",
      "Root Mean Squared Error: 0.033304258717944416\n"
     ]
    }
   ],
   "source": [
    "#print(explained_variance_score(Y, Y_pred))\n",
    "\n",
    "print('Model Accuracy R^2:', r2_score(Y, Y_pred))\n",
    "print('Mean Absolute Error:', mean_absolute_error(Y, Y_pred))  \n",
    "print('Mean Squared Error:', mean_squared_error(Y, Y_pred))  \n",
    "print('Root Mean Squared Error:', np.sqrt(mean_squared_error(Y, Y_pred)))\n",
    "\n",
    "linear_regression = [round(r2_score(Y, Y_pred), 3), \n",
    "                     round(mean_absolute_error(Y, Y_pred), 3), \n",
    "                     round(mean_squared_error(Y, Y_pred), 3),\n",
    "                     round(np.sqrt(metrics.mean_squared_error(Y, Y_pred)), 3)]"
   ]
  },
  {
   "cell_type": "code",
   "execution_count": 181,
   "metadata": {},
   "outputs": [
    {
     "data": {
      "text/plain": [
       "Text(0.5, 1.0, 'Residual plot')"
      ]
     },
     "execution_count": 181,
     "metadata": {},
     "output_type": "execute_result"
    },
    {
     "data": {
      "image/png": "[encoded data removed]",
      "text/plain": [
       "<Figure size 432x288 with 1 Axes>"
      ]
     },
     "metadata": {
      "needs_background": "light"
     },
     "output_type": "display_data"
    }
   ],
   "source": [
    "#sn.residplot(predictions.reshape(-1),'waiting', data=faithful,lowess=True, line_kws={'color': 'red', 'lw': 1, 'alpha': 1})\n",
    "\n",
    "sn.residplot(Y_pred, Y, lowess=True, color=\"r\")\n",
    "plt.xlabel(\"Fitted values (Prediction)\")\n",
    "plt.ylabel('Residual')\n",
    "plt.title('Residual plot')"
   ]
  },
  {
   "cell_type": "code",
   "execution_count": 182,
   "metadata": {},
   "outputs": [],
   "source": [
    "residuals = Y_pred - Y"
   ]
  },
  {
   "cell_type": "code",
   "execution_count": 183,
   "metadata": {},
   "outputs": [
    {
     "data": {
      "text/plain": [
       "Text(0.5, 1.0, 'Normal Q-Q Plot')"
      ]
     },
     "execution_count": 183,
     "metadata": {},
     "output_type": "execute_result"
    },
    {
     "data": {
      "image/png": "[encoded data removed]",
      "text/plain": [
       "<Figure size 432x288 with 1 Axes>"
      ]
     },
     "metadata": {
      "needs_background": "light"
     },
     "output_type": "display_data"
    }
   ],
   "source": [
    "import scipy.stats as stats\n",
    "stats.probplot(residuals, dist=\"norm\", plot=plt)\n",
    "plt.title(\"Normal Q-Q Plot\")"
   ]
  },
  {
   "cell_type": "code",
   "execution_count": 184,
   "metadata": {},
   "outputs": [
    {
     "name": "stdout",
     "output_type": "stream",
     "text": [
      "Mean Cross-validated scores: 0.38528439963470423\n"
     ]
    }
   ],
   "source": [
    "rf_model = RandomForestRegressor(max_depth=3, random_state=1)\n",
    "rf_scores = cross_val_score(rf_model, X, Y, cv=10)\n",
    "print('Mean Cross-validated scores:', np.mean(rf_scores))"
   ]
  },
  {
   "cell_type": "code",
   "execution_count": 185,
   "metadata": {},
   "outputs": [],
   "source": [
    "Y_pred = cross_val_predict(rf_model, X, Y, cv=10)"
   ]
  },
  {
   "cell_type": "code",
   "execution_count": 186,
   "metadata": {},
   "outputs": [
    {
     "name": "stdout",
     "output_type": "stream",
     "text": [
      "Model Accuracy R^2: 0.39759060994966666\n",
      "Mean Absolute Error: 0.026938562009421838\n",
      "Mean Squared Error: 0.0012509600674241543\n",
      "Root Mean Squared Error: 0.03536891385700378\n"
     ]
    }
   ],
   "source": [
    "print('Model Accuracy R^2:', r2_score(Y, Y_pred))\n",
    "print('Mean Absolute Error:', mean_absolute_error(Y, Y_pred))  \n",
    "print('Mean Squared Error:', mean_squared_error(Y, Y_pred))  \n",
    "print('Root Mean Squared Error:', np.sqrt(mean_squared_error(Y, Y_pred)))\n",
    "\n",
    "random_forest = [round(r2_score(Y, Y_pred), 3),\n",
    "                 round(mean_absolute_error(Y, Y_pred), 3), \n",
    "                 round(mean_squared_error(Y, Y_pred), 3),\n",
    "                 round(np.sqrt(metrics.mean_squared_error(Y, Y_pred)), 3)]"
   ]
  },
  {
   "cell_type": "code",
   "execution_count": 187,
   "metadata": {},
   "outputs": [
    {
     "name": "stdout",
     "output_type": "stream",
     "text": [
      "Mean Cross-validated scores: 0.38528439963470423\n"
     ]
    }
   ],
   "source": [
    "svm_model = svm.SVR()\n",
    "svm_scores = cross_val_score(rf_model, X, Y, cv=10)\n",
    "print('Mean Cross-validated scores:', np.mean(svm_scores))"
   ]
  },
  {
   "cell_type": "code",
   "execution_count": 188,
   "metadata": {},
   "outputs": [],
   "source": [
    "Y_pred = cross_val_predict(svm_model, X, Y, cv=10)"
   ]
  },
  {
   "cell_type": "code",
   "execution_count": 189,
   "metadata": {},
   "outputs": [
    {
     "name": "stdout",
     "output_type": "stream",
     "text": [
      "Model Accuracy R^2: 0.17307984204046412\n",
      "Mean Absolute Error: 0.03222995579254723\n",
      "Mean Squared Error: 0.0017171779086461818\n",
      "Root Mean Squared Error: 0.04143884540676998\n"
     ]
    }
   ],
   "source": [
    "print('Model Accuracy R^2:', r2_score(Y, Y_pred))\n",
    "print('Mean Absolute Error:', mean_absolute_error(Y, Y_pred))  \n",
    "print('Mean Squared Error:', mean_squared_error(Y, Y_pred))  \n",
    "print('Root Mean Squared Error:', np.sqrt(mean_squared_error(Y, Y_pred)))\n",
    "\n",
    "svm = [round(r2_score(Y, Y_pred), 3), \n",
    "                     round(mean_absolute_error(Y, Y_pred), 3), \n",
    "                     round(mean_squared_error(Y, Y_pred), 3),\n",
    "                     round(np.sqrt(metrics.mean_squared_error(Y, Y_pred)), 3)]"
   ]
  },
  {
   "cell_type": "code",
   "execution_count": 190,
   "metadata": {},
   "outputs": [
    {
     "name": "stdout",
     "output_type": "stream",
     "text": [
      "Mean Cross-validated scores: 0.3398888318154533\n"
     ]
    }
   ],
   "source": [
    "knn_model = KNeighborsRegressor(n_neighbors=3)\n",
    "knn_scores = cross_val_score(knn_model, X, Y, cv=10)\n",
    "print('Mean Cross-validated scores:', np.mean(knn_scores))"
   ]
  },
  {
   "cell_type": "code",
   "execution_count": 191,
   "metadata": {},
   "outputs": [],
   "source": [
    "Y_pred = cross_val_predict(knn_model, X, Y, cv=10)"
   ]
  },
  {
   "cell_type": "code",
   "execution_count": 192,
   "metadata": {},
   "outputs": [
    {
     "name": "stdout",
     "output_type": "stream",
     "text": [
      "Model Accuracy R^2: 0.3555917492311963\n",
      "Mean Absolute Error: 0.028112170846891046\n",
      "Mean Squared Error: 0.0013381746734775653\n",
      "Root Mean Squared Error: 0.03658106987879886\n"
     ]
    }
   ],
   "source": [
    "print('Model Accuracy R^2:', r2_score(Y, Y_pred))\n",
    "print('Mean Absolute Error:', mean_absolute_error(Y, Y_pred))  \n",
    "print('Mean Squared Error:', mean_squared_error(Y, Y_pred))  \n",
    "print('Root Mean Squared Error:', np.sqrt(mean_squared_error(Y, Y_pred)))\n",
    "\n",
    "knn = [round(r2_score(Y, Y_pred), 3), \n",
    "                     round(mean_absolute_error(Y, Y_pred), 3), \n",
    "                     round(mean_squared_error(Y, Y_pred), 3),\n",
    "                     round(np.sqrt(metrics.mean_squared_error(Y, Y_pred)), 3)]"
   ]
  },
  {
   "cell_type": "code",
   "execution_count": 193,
   "metadata": {},
   "outputs": [
    {
     "name": "stdout",
     "output_type": "stream",
     "text": [
      "Mean Cross-validated scores: -1.6147028981210556\n"
     ]
    }
   ],
   "source": [
    "mlp_model = MLPRegressor()\n",
    "mlp_scores = cross_val_score(mlp_model, X, Y, cv=10)\n",
    "print('Mean Cross-validated scores:', np.mean(mlp_scores))\n"
   ]
  },
  {
   "cell_type": "code",
   "execution_count": 194,
   "metadata": {},
   "outputs": [],
   "source": [
    "Y_pred = cross_val_predict(mlp_model, X, Y, cv=10)"
   ]
  },
  {
   "cell_type": "code",
   "execution_count": 196,
   "metadata": {},
   "outputs": [
    {
     "name": "stdout",
     "output_type": "stream",
     "text": [
      "Model Accuracy R^2: -1.4247409822605142\n",
      "Mean Absolute Error: 0.05339618462494649\n",
      "Mean Squared Error: 0.005035203953911283\n",
      "Root Mean Squared Error: 0.07095917103455537\n"
     ]
    }
   ],
   "source": [
    "print('Model Accuracy R^2:', r2_score(Y, Y_pred))\n",
    "print('Mean Absolute Error:', mean_absolute_error(Y, Y_pred))  \n",
    "print('Mean Squared Error:', mean_squared_error(Y, Y_pred))  \n",
    "print('Root Mean Squared Error:', np.sqrt(mean_squared_error(Y, Y_pred)))\n",
    "\n",
    "mlp = [round(r2_score(Y, Y_pred), 3), \n",
    "                     round(mean_absolute_error(Y, Y_pred), 3), \n",
    "                     round(mean_squared_error(Y, Y_pred), 3),\n",
    "                     round(np.sqrt(metrics.mean_squared_error(Y, Y_pred)), 3)]"
   ]
  },
  {
   "cell_type": "code",
   "execution_count": 206,
   "metadata": {},
   "outputs": [
    {
     "name": "stdout",
     "output_type": "stream",
     "text": [
      "Mean Cross-validated scores: -4.535151153157679\n"
     ]
    }
   ],
   "source": [
    "#kernel = DotProduct() + WhiteKernel()\n",
    "#gpr_model = GaussianProcessRegressor(kernel=kernel, random_state=1)\n",
    "\n",
    "gpr_model = GaussianProcessRegressor()\n",
    "gpr_scores = cross_val_score(gpr_model, X, Y, cv=10)\n",
    "print('Mean Cross-validated scores:', np.mean(gpr_scores))"
   ]
  },
  {
   "cell_type": "code",
   "execution_count": 207,
   "metadata": {},
   "outputs": [],
   "source": [
    "Y_pred = cross_val_predict(gpr_model, X, Y, cv=10)"
   ]
  },
  {
   "cell_type": "code",
   "execution_count": 210,
   "metadata": {},
   "outputs": [
    {
     "name": "stdout",
     "output_type": "stream",
     "text": [
      "Model Accuracy R^2: -4.318720326230867\n",
      "Mean Absolute Error: 0.08248641761270654\n",
      "Mean Squared Error: 0.011044825741106165\n",
      "Root Mean Squared Error: 0.10509436588659815\n"
     ]
    }
   ],
   "source": [
    "print('Model Accuracy R^2:', r2_score(Y, Y_pred))\n",
    "print('Mean Absolute Error:', mean_absolute_error(Y, Y_pred))  \n",
    "print('Mean Squared Error:', mean_squared_error(Y, Y_pred))  \n",
    "print('Root Mean Squared Error:', np.sqrt(mean_squared_error(Y, Y_pred)))\n",
    "\n",
    "gaussiant_processor = [round(r2_score(Y, Y_pred), 3), \n",
    "                     round(mean_absolute_error(Y, Y_pred), 3), \n",
    "                     round(mean_squared_error(Y, Y_pred), 3),\n",
    "                     round(np.sqrt(metrics.mean_squared_error(Y, Y_pred)), 3)]"
   ]
  },
  {
   "cell_type": "code",
   "execution_count": 211,
   "metadata": {},
   "outputs": [
    {
     "name": "stdout",
     "output_type": "stream",
     "text": [
      "Mean Cross-validated scores: 0.41802720188366155\n"
     ]
    }
   ],
   "source": [
    "gbr_model = GradientBoostingRegressor(n_estimators=100, learning_rate=0.1, max_depth=1, random_state=0, loss='ls')\n",
    "gbr_scores = cross_val_score(gbr_model, X, Y, cv=10)\n",
    "print('Mean Cross-validated scores:', np.mean(gbr_scores))"
   ]
  },
  {
   "cell_type": "code",
   "execution_count": 212,
   "metadata": {},
   "outputs": [],
   "source": [
    "Y_pred = cross_val_predict(gbr_model, X, Y, cv=10)"
   ]
  },
  {
   "cell_type": "code",
   "execution_count": 213,
   "metadata": {},
   "outputs": [
    {
     "name": "stdout",
     "output_type": "stream",
     "text": [
      "Model Accuracy R^2: 0.43083854693812607\n",
      "Mean Absolute Error: 0.026402620825619928\n",
      "Mean Squared Error: 0.0011819175820583104\n",
      "Root Mean Squared Error: 0.03437902823027886\n"
     ]
    }
   ],
   "source": [
    "print('Model Accuracy R^2:', r2_score(Y, Y_pred))\n",
    "print('Mean Absolute Error:', mean_absolute_error(Y, Y_pred))  \n",
    "print('Mean Squared Error:', mean_squared_error(Y, Y_pred))  \n",
    "print('Root Mean Squared Error:', np.sqrt(mean_squared_error(Y, Y_pred)))\n",
    "\n",
    "gradient_boosting = [round(r2_score(Y, Y_pred), 3), \n",
    "                     round(mean_absolute_error(Y, Y_pred), 3), \n",
    "                     round(mean_squared_error(Y, Y_pred), 3),\n",
    "                     round(np.sqrt(metrics.mean_squared_error(Y, Y_pred)), 3)]"
   ]
  },
  {
   "cell_type": "code",
   "execution_count": 214,
   "metadata": {},
   "outputs": [],
   "source": [
    "estimators=[('Linear Regression', lm_model), \n",
    "            ('Random Forest', rf_model), \n",
    "            ('SVM', svm_model), \n",
    "            ('KNN', knn_model), \n",
    "            ('Neural Network', mlp_model), \n",
    "            ('Gaussian Process', gpr_model), \n",
    "            ('Gardient Boosting', svm_model)]\n",
    "\n",
    "voting_model = VotingRegressor(estimators)"
   ]
  },
  {
   "cell_type": "code",
   "execution_count": 215,
   "metadata": {},
   "outputs": [
    {
     "name": "stdout",
     "output_type": "stream",
     "text": [
      "Mean Cross-validated scores: 0.29852056345604777\n"
     ]
    }
   ],
   "source": [
    "voting_scores = cross_val_score(voting_model, X, Y, cv=10)\n",
    "print('Mean Cross-validated scores:', np.mean(voting_scores))"
   ]
  },
  {
   "cell_type": "code",
   "execution_count": 216,
   "metadata": {},
   "outputs": [],
   "source": [
    "Y_pred = cross_val_predict(voting_model, X, Y, cv=10)"
   ]
  },
  {
   "cell_type": "code",
   "execution_count": 217,
   "metadata": {},
   "outputs": [
    {
     "name": "stdout",
     "output_type": "stream",
     "text": [
      "Model Accuracy R^2: 0.3170853471229488\n",
      "Mean Absolute Error: 0.028728339018211344\n",
      "Mean Squared Error: 0.0014181368589500894\n",
      "Root Mean Squared Error: 0.03765815793357515\n"
     ]
    }
   ],
   "source": [
    "print('Model Accuracy R^2:', r2_score(Y, Y_pred))\n",
    "print('Mean Absolute Error:', mean_absolute_error(Y, Y_pred))  \n",
    "print('Mean Squared Error:', mean_squared_error(Y, Y_pred))  \n",
    "print('Root Mean Squared Error:', np.sqrt(mean_squared_error(Y, Y_pred)))\n",
    "\n",
    "voting_regression = [round(r2_score(Y, Y_pred), 3), \n",
    "                     round(mean_absolute_error(Y, Y_pred), 3), \n",
    "                     round(mean_squared_error(Y, Y_pred), 3),\n",
    "                     round(np.sqrt(metrics.mean_squared_error(Y, Y_pred)), 3)]"
   ]
  },
  {
   "cell_type": "code",
   "execution_count": 233,
   "metadata": {},
   "outputs": [],
   "source": [
    "parameters = ['R^2', 'Mean Absolute Error', 'Mean Squared Error', 'Root Mean Squared Error']\n",
    "\n",
    "output = pd.DataFrame(np.column_stack([parameters, \n",
    "                                       linear_regression, \n",
    "                                       knn, \n",
    "                                       svm,\n",
    "                                       mlp, \n",
    "                                       gaussiant_processor, \n",
    "                                       random_forest,\n",
    "                                       gradient_boosting, \n",
    "                                       voting_regression]), \n",
    "                      columns=['Parameters', 'Linear Regression', 'KNN', 'SVM', 'MLP', 'Gaussiant Processor',\n",
    "                              'Random Forest', 'Gradient Boosting', 'Voting Regression'])"
   ]
  },
  {
   "cell_type": "code",
   "execution_count": 234,
   "metadata": {},
   "outputs": [
    {
     "data": {
      "text/html": [
       "<div>\n",
       "<style scoped>\n",
       "    .dataframe tbody tr th:only-of-type {\n",
       "        vertical-align: middle;\n",
       "    }\n",
       "\n",
       "    .dataframe tbody tr th {\n",
       "        vertical-align: top;\n",
       "    }\n",
       "\n",
       "    .dataframe thead th {\n",
       "        text-align: right;\n",
       "    }\n",
       "</style>\n",
       "<table border=\"1\" class=\"dataframe\">\n",
       "  <thead>\n",
       "    <tr style=\"text-align: right;\">\n",
       "      <th></th>\n",
       "      <th>Parameters</th>\n",
       "      <th>Linear Regression</th>\n",
       "      <th>KNN</th>\n",
       "      <th>SVM</th>\n",
       "      <th>MLP</th>\n",
       "      <th>Gaussiant Processor</th>\n",
       "      <th>Random Forest</th>\n",
       "      <th>Gradient Boosting</th>\n",
       "      <th>Voting Regression</th>\n",
       "    </tr>\n",
       "  </thead>\n",
       "  <tbody>\n",
       "    <tr>\n",
       "      <th>0</th>\n",
       "      <td>R^2</td>\n",
       "      <td>0.466</td>\n",
       "      <td>0.356</td>\n",
       "      <td>0.173</td>\n",
       "      <td>-1.425</td>\n",
       "      <td>-4.319</td>\n",
       "      <td>0.398</td>\n",
       "      <td>0.431</td>\n",
       "      <td>0.317</td>\n",
       "    </tr>\n",
       "    <tr>\n",
       "      <th>1</th>\n",
       "      <td>Mean Absolute Error</td>\n",
       "      <td>0.025</td>\n",
       "      <td>0.028</td>\n",
       "      <td>0.032</td>\n",
       "      <td>0.053</td>\n",
       "      <td>0.082</td>\n",
       "      <td>0.027</td>\n",
       "      <td>0.026</td>\n",
       "      <td>0.029</td>\n",
       "    </tr>\n",
       "    <tr>\n",
       "      <th>2</th>\n",
       "      <td>Mean Squared Error</td>\n",
       "      <td>0.001</td>\n",
       "      <td>0.001</td>\n",
       "      <td>0.002</td>\n",
       "      <td>0.005</td>\n",
       "      <td>0.011</td>\n",
       "      <td>0.001</td>\n",
       "      <td>0.001</td>\n",
       "      <td>0.001</td>\n",
       "    </tr>\n",
       "    <tr>\n",
       "      <th>3</th>\n",
       "      <td>Root Mean Squared Error</td>\n",
       "      <td>0.033</td>\n",
       "      <td>0.037</td>\n",
       "      <td>0.041</td>\n",
       "      <td>0.071</td>\n",
       "      <td>0.105</td>\n",
       "      <td>0.035</td>\n",
       "      <td>0.034</td>\n",
       "      <td>0.038</td>\n",
       "    </tr>\n",
       "  </tbody>\n",
       "</table>\n",
       "</div>"
      ],
      "text/plain": [
       "                Parameters Linear Regression    KNN    SVM     MLP  \\\n",
       "0                      R^2             0.466  0.356  0.173  -1.425   \n",
       "1      Mean Absolute Error             0.025  0.028  0.032   0.053   \n",
       "2       Mean Squared Error             0.001  0.001  0.002   0.005   \n",
       "3  Root Mean Squared Error             0.033  0.037  0.041   0.071   \n",
       "\n",
       "  Gaussiant Processor Random Forest Gradient Boosting Voting Regression  \n",
       "0              -4.319         0.398             0.431             0.317  \n",
       "1               0.082         0.027             0.026             0.029  \n",
       "2               0.011         0.001             0.001             0.001  \n",
       "3               0.105         0.035             0.034             0.038  "
      ]
     },
     "execution_count": 234,
     "metadata": {},
     "output_type": "execute_result"
    }
   ],
   "source": [
    "output"
   ]
  },
  {
   "cell_type": "code",
   "execution_count": null,
   "metadata": {},
   "outputs": [],
   "source": []
  },
  {
   "cell_type": "code",
   "execution_count": null,
   "metadata": {},
   "outputs": [],
   "source": []
  },
  {
   "cell_type": "code",
   "execution_count": null,
   "metadata": {},
   "outputs": [],
   "source": []
  },
  {
   "cell_type": "code",
   "execution_count": 91,
   "metadata": {},
   "outputs": [
    {
     "name": "stdout",
     "output_type": "stream",
     "text": [
      "<class 'pandas.core.frame.DataFrame'>\n",
      "RangeIndex: 3578549 entries, 0 to 3578548\n",
      "Data columns (total 20 columns):\n",
      "Utilization Type                  object\n",
      "State                             object\n",
      "Labeler Code                      int64\n",
      "Product Code                      int64\n",
      "Package Size                      int64\n",
      "Year                              int64\n",
      "Quarter                           int64\n",
      "Product Name                      object\n",
      "Suppression Used                  bool\n",
      "Units Reimbursed                  float64\n",
      "Number of Prescriptions           float64\n",
      "Total Amount Reimbursed           float64\n",
      "Medicaid Amount Reimbursed        float64\n",
      "Non Medicaid Amount Reimbursed    float64\n",
      "Quarter Begin                     object\n",
      "Quarter Begin Date                object\n",
      "Latitude                          float64\n",
      "Longitude                         float64\n",
      "Location                          object\n",
      "NDC                               int64\n",
      "dtypes: bool(1), float64(7), int64(6), object(6)\n",
      "memory usage: 522.2+ MB\n"
     ]
    }
   ],
   "source": [
    "state = pd.read_csv('State_Drug_Utilization_Data_2019.csv', engine='python')\n",
    "state.info()"
   ]
  },
  {
   "cell_type": "code",
   "execution_count": 235,
   "metadata": {},
   "outputs": [
    {
     "name": "stdout",
     "output_type": "stream",
     "text": [
      "  Utilization Type State Product Name  Units Reimbursed  \\\n",
      "0             MCOU    XX   NICOTINE 7           13160.0   \n",
      "1             FFSU    IL   BUMETANIDE               NaN   \n",
      "2             FFSU    XX   LIOTHYRONI             795.0   \n",
      "3             MCOU    NY   QUETIAPINE               NaN   \n",
      "4             MCOU    IN    OFLOXACIN               NaN   \n",
      "\n",
      "   Total Amount Reimbursed  \n",
      "0                 16209.76  \n",
      "1                      NaN  \n",
      "2                   408.00  \n",
      "3                      NaN  \n",
      "4                      NaN  \n"
     ]
    }
   ],
   "source": [
    "state = state.loc[:, ['Utilization Type', 'State', 'Product Name', 'Units Reimbursed', 'Total Amount Reimbursed']]\n",
    "print(state.head())"
   ]
  },
  {
   "cell_type": "code",
   "execution_count": 236,
   "metadata": {},
   "outputs": [
    {
     "name": "stdout",
     "output_type": "stream",
     "text": [
      "<class 'pandas.core.frame.DataFrame'>\n",
      "Int64Index: 1652088 entries, 0 to 3048982\n",
      "Data columns (total 5 columns):\n",
      "Utilization Type           1652088 non-null object\n",
      "State                      1652088 non-null object\n",
      "Product Name               1652088 non-null object\n",
      "Units Reimbursed           1652088 non-null float64\n",
      "Total Amount Reimbursed    1652088 non-null float64\n",
      "dtypes: float64(2), object(3)\n",
      "memory usage: 75.6+ MB\n"
     ]
    }
   ],
   "source": [
    "raw = state.dropna()\n",
    "raw.info()"
   ]
  },
  {
   "cell_type": "code",
   "execution_count": 237,
   "metadata": {},
   "outputs": [],
   "source": [
    "mcou = raw[raw['Utilization Type'] == 'MCOU']\n",
    "ffsu = raw[raw['Utilization Type'] == 'FFSU']"
   ]
  },
  {
   "cell_type": "code",
   "execution_count": 238,
   "metadata": {},
   "outputs": [],
   "source": [
    "mcou = mcou.groupby('Product Name')['Units Reimbursed', 'Total Amount Reimbursed'].aggregate('sum')\n",
    "ffsu = ffsu.groupby('Product Name')['Units Reimbursed', 'Total Amount Reimbursed'].aggregate('sum')"
   ]
  },
  {
   "cell_type": "code",
   "execution_count": 239,
   "metadata": {},
   "outputs": [],
   "source": [
    "mcou['unit_price'] = mcou['Total Amount Reimbursed'] / mcou['Units Reimbursed']\n",
    "ffsu['unit_price'] = ffsu['Total Amount Reimbursed'] / ffsu['Units Reimbursed']"
   ]
  },
  {
   "cell_type": "code",
   "execution_count": 240,
   "metadata": {},
   "outputs": [],
   "source": [
    "mcou = mcou.reset_index()\n",
    "ffsu = ffsu.reset_index()"
   ]
  },
  {
   "cell_type": "code",
   "execution_count": 241,
   "metadata": {},
   "outputs": [
    {
     "data": {
      "text/html": [
       "<div>\n",
       "<style scoped>\n",
       "    .dataframe tbody tr th:only-of-type {\n",
       "        vertical-align: middle;\n",
       "    }\n",
       "\n",
       "    .dataframe tbody tr th {\n",
       "        vertical-align: top;\n",
       "    }\n",
       "\n",
       "    .dataframe thead th {\n",
       "        text-align: right;\n",
       "    }\n",
       "</style>\n",
       "<table border=\"1\" class=\"dataframe\">\n",
       "  <thead>\n",
       "    <tr style=\"text-align: right;\">\n",
       "      <th></th>\n",
       "      <th>Product Name</th>\n",
       "      <th>Units Reimbursed</th>\n",
       "      <th>Total Amount Reimbursed</th>\n",
       "      <th>unit_price</th>\n",
       "    </tr>\n",
       "  </thead>\n",
       "  <tbody>\n",
       "    <tr>\n",
       "      <th>0</th>\n",
       "      <td>** FROM CL</td>\n",
       "      <td>1.372700e+05</td>\n",
       "      <td>38950.34</td>\n",
       "      <td>0.283750</td>\n",
       "    </tr>\n",
       "    <tr>\n",
       "      <th>1</th>\n",
       "      <td>.12% CHLOR</td>\n",
       "      <td>1.037102e+08</td>\n",
       "      <td>1134941.18</td>\n",
       "      <td>0.010943</td>\n",
       "    </tr>\n",
       "    <tr>\n",
       "      <th>2</th>\n",
       "      <td>0.075% KCL</td>\n",
       "      <td>1.202000e+04</td>\n",
       "      <td>42.24</td>\n",
       "      <td>0.003514</td>\n",
       "    </tr>\n",
       "    <tr>\n",
       "      <th>3</th>\n",
       "      <td>0.15% KCL</td>\n",
       "      <td>2.919732e+06</td>\n",
       "      <td>546268.60</td>\n",
       "      <td>0.187095</td>\n",
       "    </tr>\n",
       "    <tr>\n",
       "      <th>4</th>\n",
       "      <td>0.25 ACETI</td>\n",
       "      <td>7.665300e+05</td>\n",
       "      <td>3772.17</td>\n",
       "      <td>0.004921</td>\n",
       "    </tr>\n",
       "    <tr>\n",
       "      <th>5</th>\n",
       "      <td>0.25% ACET</td>\n",
       "      <td>3.303080e+05</td>\n",
       "      <td>1246.03</td>\n",
       "      <td>0.003772</td>\n",
       "    </tr>\n",
       "    <tr>\n",
       "      <th>6</th>\n",
       "      <td>0.4% LIDOC</td>\n",
       "      <td>2.429535e+05</td>\n",
       "      <td>386922.48</td>\n",
       "      <td>1.592578</td>\n",
       "    </tr>\n",
       "    <tr>\n",
       "      <th>7</th>\n",
       "      <td>0.45% SODI</td>\n",
       "      <td>1.618572e+06</td>\n",
       "      <td>5308.05</td>\n",
       "      <td>0.003279</td>\n",
       "    </tr>\n",
       "    <tr>\n",
       "      <th>8</th>\n",
       "      <td>0.8% LIDOC</td>\n",
       "      <td>2.592850e+04</td>\n",
       "      <td>83269.94</td>\n",
       "      <td>3.211522</td>\n",
       "    </tr>\n",
       "    <tr>\n",
       "      <th>9</th>\n",
       "      <td>0.9% NACL</td>\n",
       "      <td>2.669100e+05</td>\n",
       "      <td>9392.99</td>\n",
       "      <td>0.035192</td>\n",
       "    </tr>\n",
       "  </tbody>\n",
       "</table>\n",
       "</div>"
      ],
      "text/plain": [
       "  Product Name  Units Reimbursed  Total Amount Reimbursed  unit_price\n",
       "0   ** FROM CL      1.372700e+05                 38950.34    0.283750\n",
       "1   .12% CHLOR      1.037102e+08               1134941.18    0.010943\n",
       "2   0.075% KCL      1.202000e+04                    42.24    0.003514\n",
       "3    0.15% KCL      2.919732e+06                546268.60    0.187095\n",
       "4   0.25 ACETI      7.665300e+05                  3772.17    0.004921\n",
       "5   0.25% ACET      3.303080e+05                  1246.03    0.003772\n",
       "6   0.4% LIDOC      2.429535e+05                386922.48    1.592578\n",
       "7   0.45% SODI      1.618572e+06                  5308.05    0.003279\n",
       "8   0.8% LIDOC      2.592850e+04                 83269.94    3.211522\n",
       "9    0.9% NACL      2.669100e+05                  9392.99    0.035192"
      ]
     },
     "execution_count": 241,
     "metadata": {},
     "output_type": "execute_result"
    }
   ],
   "source": [
    "mcou.head(10)"
   ]
  },
  {
   "cell_type": "code",
   "execution_count": 242,
   "metadata": {},
   "outputs": [],
   "source": [
    "total = mcou.merge(ffsu, left_on=['Product Name'], right_on = ['Product Name'])"
   ]
  },
  {
   "cell_type": "code",
   "execution_count": 243,
   "metadata": {},
   "outputs": [
    {
     "data": {
      "text/html": [
       "<div>\n",
       "<style scoped>\n",
       "    .dataframe tbody tr th:only-of-type {\n",
       "        vertical-align: middle;\n",
       "    }\n",
       "\n",
       "    .dataframe tbody tr th {\n",
       "        vertical-align: top;\n",
       "    }\n",
       "\n",
       "    .dataframe thead th {\n",
       "        text-align: right;\n",
       "    }\n",
       "</style>\n",
       "<table border=\"1\" class=\"dataframe\">\n",
       "  <thead>\n",
       "    <tr style=\"text-align: right;\">\n",
       "      <th></th>\n",
       "      <th>Product Name</th>\n",
       "      <th>Units Reimbursed_x</th>\n",
       "      <th>Total Amount Reimbursed_x</th>\n",
       "      <th>unit_price_x</th>\n",
       "      <th>Units Reimbursed_y</th>\n",
       "      <th>Total Amount Reimbursed_y</th>\n",
       "      <th>unit_price_y</th>\n",
       "    </tr>\n",
       "  </thead>\n",
       "  <tbody>\n",
       "    <tr>\n",
       "      <th>0</th>\n",
       "      <td>** FROM CL</td>\n",
       "      <td>1.372700e+05</td>\n",
       "      <td>38950.34</td>\n",
       "      <td>0.283750</td>\n",
       "      <td>1.396840e+05</td>\n",
       "      <td>18925.51</td>\n",
       "      <td>0.135488</td>\n",
       "    </tr>\n",
       "    <tr>\n",
       "      <th>1</th>\n",
       "      <td>.12% CHLOR</td>\n",
       "      <td>1.037102e+08</td>\n",
       "      <td>1134941.18</td>\n",
       "      <td>0.010943</td>\n",
       "      <td>3.522629e+07</td>\n",
       "      <td>779744.40</td>\n",
       "      <td>0.022135</td>\n",
       "    </tr>\n",
       "    <tr>\n",
       "      <th>2</th>\n",
       "      <td>0.15% KCL</td>\n",
       "      <td>2.919732e+06</td>\n",
       "      <td>546268.60</td>\n",
       "      <td>0.187095</td>\n",
       "      <td>1.176864e+06</td>\n",
       "      <td>40441.76</td>\n",
       "      <td>0.034364</td>\n",
       "    </tr>\n",
       "    <tr>\n",
       "      <th>3</th>\n",
       "      <td>0.25 ACETI</td>\n",
       "      <td>7.665300e+05</td>\n",
       "      <td>3772.17</td>\n",
       "      <td>0.004921</td>\n",
       "      <td>1.773058e+06</td>\n",
       "      <td>18913.69</td>\n",
       "      <td>0.010667</td>\n",
       "    </tr>\n",
       "    <tr>\n",
       "      <th>4</th>\n",
       "      <td>0.25% ACET</td>\n",
       "      <td>3.303080e+05</td>\n",
       "      <td>1246.03</td>\n",
       "      <td>0.003772</td>\n",
       "      <td>8.230000e+05</td>\n",
       "      <td>7321.19</td>\n",
       "      <td>0.008896</td>\n",
       "    </tr>\n",
       "  </tbody>\n",
       "</table>\n",
       "</div>"
      ],
      "text/plain": [
       "  Product Name  Units Reimbursed_x  Total Amount Reimbursed_x  unit_price_x  \\\n",
       "0   ** FROM CL        1.372700e+05                   38950.34      0.283750   \n",
       "1   .12% CHLOR        1.037102e+08                 1134941.18      0.010943   \n",
       "2    0.15% KCL        2.919732e+06                  546268.60      0.187095   \n",
       "3   0.25 ACETI        7.665300e+05                    3772.17      0.004921   \n",
       "4   0.25% ACET        3.303080e+05                    1246.03      0.003772   \n",
       "\n",
       "   Units Reimbursed_y  Total Amount Reimbursed_y  unit_price_y  \n",
       "0        1.396840e+05                   18925.51      0.135488  \n",
       "1        3.522629e+07                  779744.40      0.022135  \n",
       "2        1.176864e+06                   40441.76      0.034364  \n",
       "3        1.773058e+06                   18913.69      0.010667  \n",
       "4        8.230000e+05                    7321.19      0.008896  "
      ]
     },
     "execution_count": 243,
     "metadata": {},
     "output_type": "execute_result"
    }
   ],
   "source": [
    "total.head()"
   ]
  },
  {
   "cell_type": "code",
   "execution_count": 244,
   "metadata": {},
   "outputs": [],
   "source": [
    "total.rename(columns={'Units Reimbursed_x': 'units_reimbursed_mcou',\n",
    "                      'Total Amount Reimbursed_x': 'total_amount_reimbursed_mcou',\n",
    "                      'unit_price_x': 'unit_price_mcou',\n",
    "                      'Units Reimbursed_y': 'units_reimbursed_ffsu',\n",
    "                      'Total Amount Reimbursed_y': 'total_amount_reimbursed_ffsu',\n",
    "                      'unit_price_y': 'unit_price_ffsu'\n",
    "                     }, inplace = True)"
   ]
  },
  {
   "cell_type": "code",
   "execution_count": 245,
   "metadata": {},
   "outputs": [
    {
     "name": "stdout",
     "output_type": "stream",
     "text": [
      "  Product Name  units_reimbursed_mcou  total_amount_reimbursed_mcou  \\\n",
      "0   ** FROM CL           1.372700e+05                      38950.34   \n",
      "1   .12% CHLOR           1.037102e+08                    1134941.18   \n",
      "2    0.15% KCL           2.919732e+06                     546268.60   \n",
      "3   0.25 ACETI           7.665300e+05                       3772.17   \n",
      "4   0.25% ACET           3.303080e+05                       1246.03   \n",
      "\n",
      "   unit_price_mcou  units_reimbursed_ffsu  total_amount_reimbursed_ffsu  \\\n",
      "0         0.283750           1.396840e+05                      18925.51   \n",
      "1         0.010943           3.522629e+07                     779744.40   \n",
      "2         0.187095           1.176864e+06                      40441.76   \n",
      "3         0.004921           1.773058e+06                      18913.69   \n",
      "4         0.003772           8.230000e+05                       7321.19   \n",
      "\n",
      "   unit_price_ffsu  \n",
      "0         0.135488  \n",
      "1         0.022135  \n",
      "2         0.034364  \n",
      "3         0.010667  \n",
      "4         0.008896  \n"
     ]
    }
   ],
   "source": [
    "print(total.head())"
   ]
  },
  {
   "cell_type": "code",
   "execution_count": 246,
   "metadata": {},
   "outputs": [
    {
     "name": "stdout",
     "output_type": "stream",
     "text": [
      "<class 'pandas.core.frame.DataFrame'>\n",
      "Int64Index: 7802 entries, 0 to 7801\n",
      "Data columns (total 7 columns):\n",
      "Product Name                    7802 non-null object\n",
      "units_reimbursed_mcou           7802 non-null float64\n",
      "total_amount_reimbursed_mcou    7802 non-null float64\n",
      "unit_price_mcou                 7802 non-null float64\n",
      "units_reimbursed_ffsu           7802 non-null float64\n",
      "total_amount_reimbursed_ffsu    7802 non-null float64\n",
      "unit_price_ffsu                 7802 non-null float64\n",
      "dtypes: float64(6), object(1)\n",
      "memory usage: 487.6+ KB\n"
     ]
    }
   ],
   "source": [
    "total.info()"
   ]
  },
  {
   "cell_type": "code",
   "execution_count": 105,
   "metadata": {},
   "outputs": [
    {
     "data": {
      "image/png": "[encoded data removed]",
      "text/plain": [
       "<Figure size 1440x720 with 2 Axes>"
      ]
     },
     "metadata": {
      "needs_background": "light"
     },
     "output_type": "display_data"
    }
   ],
   "source": [
    "#fig = plt.figure()\n",
    "\n",
    "%matplotlib inline\n",
    "plt.figure(figsize=(20,10))\n",
    "\n",
    "plt.subplot(1, 2, 1)\n",
    "total['unit_price_mcou'].hist(bins = 100, range = [0, 100], cumulative = True, normed = True, label = 'mcou')\n",
    "plt.xlabel('Unit (Dollars)')\n",
    "plt.ylabel('Percentile')\n",
    "plt.title('Drug Unit Price Cummulative Distribution')\n",
    "plt.legend()\n",
    "\n",
    "plt.subplot(1, 2, 2)\n",
    "total['unit_price_ffsu'].hist(bins = 100, range = [0, 100], cumulative = True, normed = True, label = 'ffsu')\n",
    "plt.xlabel('Unit Price (Dollars)')\n",
    "plt.ylabel('Percentile')\n",
    "plt.title('Drug Unit Price Cummulative Distribution')\n",
    "plt.legend()\n",
    "plt.show()"
   ]
  },
  {
   "cell_type": "code",
   "execution_count": 103,
   "metadata": {},
   "outputs": [
    {
     "data": {
      "image/png": "[encoded data removed]",
      "text/plain": [
       "<Figure size 1440x720 with 1 Axes>"
      ]
     },
     "metadata": {
      "needs_background": "light"
     },
     "output_type": "display_data"
    }
   ],
   "source": [
    "bins = np.linspace(0, 10, 100)\n",
    "plt.figure(figsize=(20,10))\n",
    "plt.hist(total['unit_price_mcou'], bins, alpha=0.5, label='mcou')\n",
    "plt.hist(total['unit_price_ffsu'], bins, alpha=0.5, label='ffsu')\n",
    "plt.legend(loc='upper right')\n",
    "plt.xlabel('Unit Price (Dollar)')\n",
    "plt.ylabel(' Drug Counts')\n",
    "plt.title('Drug Unit Price Distribution')\n",
    "plt.show()"
   ]
  },
  {
   "cell_type": "code",
   "execution_count": 252,
   "metadata": {},
   "outputs": [
    {
     "name": "stdout",
     "output_type": "stream",
     "text": [
      "Managed Care Organization mean unit price: 252.64771403609996\n",
      "Fee for Service mean unit price: 284.3316189717122\n",
      "Managed Care Organization unit price standard deviation: 1631.6444939455073\n",
      "Fee for Service unit price standard deviation: 4152.241952381325\n"
     ]
    }
   ],
   "source": [
    "from scipy.stats import ttest_ind\n",
    "import statsmodels.stats.api as sms\n",
    "\n",
    "mcou_mean = np.mean(total['unit_price_mcou'])\n",
    "ffsu_mean = np.mean(total['unit_price_ffsu'])\n",
    "\n",
    "print(\"Managed Care Organization mean unit price:\", mcou_mean)\n",
    "print(\"Fee for Service mean unit price:\", ffsu_mean)\n",
    "\n",
    "mcou_std = np.std(total['unit_price_mcou'])\n",
    "ffsu_std = np.std(total['unit_price_ffsu'])\n",
    "\n",
    "print(\"Managed Care Organization unit price standard deviation:\", mcou_std)\n",
    "print(\"Fee for Service unit price standard deviation:\", ffsu_std)"
   ]
  },
  {
   "cell_type": "code",
   "execution_count": 253,
   "metadata": {},
   "outputs": [
    {
     "name": "stdout",
     "output_type": "stream",
     "text": [
      "t statistics:  -0.6272641341087188\n",
      "p-value:  0.530495288515858\n",
      "we accept null hypothesis\n"
     ]
    }
   ],
   "source": [
    "ttest, pval = ttest_ind(total['unit_price_mcou'], total['unit_price_ffsu'])\n",
    "print('t statistics: ', ttest)\n",
    "print(\"p-value: \", pval)\n",
    "\n",
    "if pval < 0.05:\n",
    "  print(\"we reject null hypothesis\")\n",
    "else:\n",
    "  print(\"we accept null hypothesis\")"
   ]
  },
  {
   "cell_type": "code",
   "execution_count": 258,
   "metadata": {},
   "outputs": [
    {
     "name": "stdout",
     "output_type": "stream",
     "text": [
      "95% confidence interval:  (-130.69596747600747, 67.32815760477901)\n"
     ]
    }
   ],
   "source": [
    "cm = sms.CompareMeans(sms.DescrStatsW(total['unit_price_mcou']), sms.DescrStatsW(total['unit_price_ffsu']))\n",
    "print('95% confidence interval: ', cm.tconfint_diff(usevar='unequal'))\n",
    "\n",
    "#cm = sms.CompareMeans(mcou_mean, ffsu_mean)\n",
    "#print(cm.tconfint_diff(usevar='unequal'))"
   ]
  },
  {
   "cell_type": "code",
   "execution_count": null,
   "metadata": {},
   "outputs": [],
   "source": [
    "  lower_bound = mean_val - test_stat * stdev / math.sqrt(n)\n",
    "  upper_bound = mean_val + test_stat * stdev / math.sqrt(n)"
   ]
  },
  {
   "cell_type": "code",
   "execution_count": null,
   "metadata": {},
   "outputs": [],
   "source": []
  },
  {
   "cell_type": "code",
   "execution_count": null,
   "metadata": {},
   "outputs": [],
   "source": [
    "from scipy.stats import ttest_ind\n",
    "import numpy as np\n",
    "week1 = np.genfromtxt(\"week1.csv\",  delimiter=\",\")\n",
    "week2 = np.genfromtxt(\"week2.csv\",  delimiter=\",\")\n",
    "print(week1)\n",
    "print(\"week2 data :-\\n\")\n",
    "print(week2)\n",
    "week1_mean = np.mean(week1)\n",
    "week2_mean = np.mean(week2)\n",
    "print(\"week1 mean value:\",week1_mean)\n",
    "print(\"week2 mean value:\",week2_mean)\n",
    "week1_std = np.std(week1)\n",
    "week2_std = np.std(week2)\n",
    "print(\"week1 std value:\",week1_std)\n",
    "print(\"week2 std value:\",week2_std)\n",
    "ttest,pval = ttest_ind(week1,week2)\n",
    "print(\"p-value\",pval)\n",
    "if pval <0.05:\n",
    "  print(\"we reject null hypothesis\")\n",
    "else:\n",
    "  print(\"we accept null hypothesis\")"
   ]
  },
  {
   "cell_type": "code",
   "execution_count": null,
   "metadata": {},
   "outputs": [],
   "source": [
    "\n",
    "## Import the packages\n",
    "import numpy as np\n",
    "from scipy import stats\n",
    "\n",
    "\n",
    "## Define 2 random distributions\n",
    "#Sample Size\n",
    "N = 10\n",
    "#Gaussian distributed data with mean = 2 and var = 1\n",
    "a = np.random.randn(N) + 2\n",
    "#Gaussian distributed data with with mean = 0 and var = 1\n",
    "b = np.random.randn(N)\n",
    "\n",
    "\n",
    "## Calculate the Standard Deviation\n",
    "#Calculate the variance to get the standard deviation\n",
    "\n",
    "#For unbiased max likelihood estimate we have to divide the var by N-1, and therefore the parameter ddof = 1\n",
    "var_a = a.var(ddof=1)\n",
    "var_b = b.var(ddof=1)\n",
    "\n",
    "#std deviation\n",
    "s = np.sqrt((var_a + var_b)/2)\n",
    "s\n",
    "\n",
    "\n",
    "\n",
    "## Calculate the t-statistics\n",
    "t = (a.mean() - b.mean())/(s*np.sqrt(2/N))\n",
    "\n",
    "\n",
    "\n",
    "## Compare with the critical t-value\n",
    "#Degrees of freedom\n",
    "df = 2*N - 2\n",
    "\n",
    "#p-value after comparison with the t \n",
    "p = 1 - stats.t.cdf(t,df=df)\n",
    "\n",
    "\n",
    "print(\"t = \" + str(t))\n",
    "print(\"p = \" + str(2*p))\n",
    "### You can see that after comparing the t statistic with the critical t value (computed internally) we get a good p value of 0.0005 and thus we reject the null hypothesis and thus it proves that the mean of the two distributions are different and statistically significant.\n",
    "\n",
    "\n",
    "## Cross Checking with the internal scipy function\n",
    "t2, p2 = stats.ttest_ind(a,b)\n",
    "print(\"t = \" + str(t2))\n",
    "print(\"p = \" + str(p2))"
   ]
  },
  {
   "cell_type": "code",
   "execution_count": null,
   "metadata": {},
   "outputs": [],
   "source": []
  },
  {
   "cell_type": "code",
   "execution_count": null,
   "metadata": {},
   "outputs": [],
   "source": [
    "lm = LinearRegression()\n",
    "log_model = log_model.fit(X_train, Y_train)\n",
    "from sklearn.linear_model import LogisticRegression\n",
    "log_model = LogisticRegression()\n",
    "scores = cross_val_score(log_model, X, Y, cv=10)\n",
    "print('Mean Cross-validated scores:', np.mean(scores))"
   ]
  }
 ],
 "metadata": {
  "kernelspec": {
   "display_name": "Python 3",
   "language": "python",
   "name": "python3"
  },
  "language_info": {
   "codemirror_mode": {
    "name": "ipython",
    "version": 3
   },
   "file_extension": ".py",
   "mimetype": "text/x-python",
   "name": "python",
   "nbconvert_exporter": "python",
   "pygments_lexer": "ipython3",
   "version": "3.7.3"
  }
 },
 "nbformat": 4,
 "nbformat_minor": 2
}
